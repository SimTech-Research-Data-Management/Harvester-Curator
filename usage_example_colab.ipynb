{
  "cells": [
    {
      "cell_type": "markdown",
      "metadata": {
        "id": "qcRdhMInhcow"
      },
      "source": [
        "# Configure Colab setting: update python from python3.10 to python3.12"
      ]
    },
    {
      "cell_type": "code",
      "execution_count": 1,
      "metadata": {
        "colab": {
          "base_uri": "https://localhost:8080/"
        },
        "id": "dUEnfgTYgCrq",
        "outputId": "0369e09e-ff0a-4035-99f7-2aa813221ecd"
      },
      "outputs": [
        {
          "name": "stdout",
          "output_type": "stream",
          "text": [
            "3.10.12 (main, Nov 20 2023, 15:14:05) [GCC 11.4.0]\n"
          ]
        }
      ],
      "source": [
        "import sys\n",
        "print(sys.version)"
      ]
    },
    {
      "cell_type": "code",
      "execution_count": 2,
      "metadata": {
        "colab": {
          "base_uri": "https://localhost:8080/"
        },
        "id": "IqEBWhSbgM8O",
        "outputId": "730c854f-16e4-4d95-c75f-872b68fe1c48"
      },
      "outputs": [
        {
          "name": "stdout",
          "output_type": "stream",
          "text": [
            "Writing upgrade_python.sh\n"
          ]
        }
      ],
      "source": [
        "%%writefile upgrade_python.sh\n",
        "#Reference: https://stackoverflow.com/questions/68657341/how-can-i-update-google-colabs-python-version\n",
        "\n",
        "export old_version=$1\n",
        "export new_version=$2\n",
        "\n",
        "#Install python new version and dev utils\n",
        "apt-get update -y\n",
        "apt-get install $new_version ${new_version}-dev ${new_version}-distutils lib${new_version}-dev\n",
        "\n",
        "#Change alternatives\n",
        "update-alternatives --install /usr/bin/python3 python3 /usr/bin/$old_version 1\n",
        "update-alternatives --install /usr/bin/python3 python3 /usr/bin/$new_version 2\n",
        "\n",
        "#Check python version\n",
        "\n",
        "echo ${python3 --version}\n",
        "\n",
        "#Install pip\n",
        "curl https://bootstrap.pypa.io/get-pip.py -o get-pip.py\n",
        "python3 get-pip.py --force-reinstall\n",
        "\n",
        "#Install colab's dependencies\n",
        "python3 -m pip install ipython ipython_genutils ipykernel jupyter_console prompt_toolkit httplib2 astor\n",
        "\n",
        "#Link to the old google package\n",
        "ln -s /usr/local/lib/$old_version/dist-packages/google \\\n",
        "       /usr/local/lib/$new_version/dist-packages/google\n",
        "\n",
        "\n",
        "# Update IPython related import in some of the colab files\n",
        "sed -i \"s/from IPython.utils import traitlets as _traitlets/import traitlets as _traitlets/\" /usr/local/lib/$old_version/dist-packages/google/colab/*.py\n",
        "sed -i \"s/from IPython.utils import traitlets/import traitlets/\" /usr/local/lib/$old_version/dist-packages/google/colab/*.py"
      ]
    },
    {
      "cell_type": "code",
      "execution_count": 3,
      "metadata": {
        "colab": {
          "base_uri": "https://localhost:8080/"
        },
        "id": "0P1vmp6EgOc-",
        "outputId": "5c2f22da-30ef-4f08-8da3-44737255b8f6"
      },
      "outputs": [
        {
          "name": "stdout",
          "output_type": "stream",
          "text": [
            "\r0% [Working]\r            \rGet:1 https://cloud.r-project.org/bin/linux/ubuntu jammy-cran40/ InRelease [3,626 B]\n",
            "Get:2 https://developer.download.nvidia.com/compute/cuda/repos/ubuntu2204/x86_64  InRelease [1,581 B]\n",
            "Get:3 https://developer.download.nvidia.com/compute/cuda/repos/ubuntu2204/x86_64  Packages [691 kB]\n",
            "Get:4 http://security.ubuntu.com/ubuntu jammy-security InRelease [110 kB]\n",
            "Hit:5 http://archive.ubuntu.com/ubuntu jammy InRelease\n",
            "Get:6 http://archive.ubuntu.com/ubuntu jammy-updates InRelease [119 kB]\n",
            "Hit:7 https://ppa.launchpadcontent.net/c2d4u.team/c2d4u4.0+/ubuntu jammy InRelease\n",
            "Hit:8 https://ppa.launchpadcontent.net/deadsnakes/ppa/ubuntu jammy InRelease\n",
            "Hit:9 http://archive.ubuntu.com/ubuntu jammy-backports InRelease\n",
            "Hit:10 https://ppa.launchpadcontent.net/graphics-drivers/ppa/ubuntu jammy InRelease\n",
            "Hit:11 https://ppa.launchpadcontent.net/ubuntugis/ppa/ubuntu jammy InRelease\n",
            "Fetched 925 kB in 2s (470 kB/s)\n",
            "Reading package lists... Done\n",
            "Reading package lists... Done\n",
            "Building dependency tree... Done\n",
            "Reading state information... Done\n",
            "The following additional packages will be installed:\n",
            "  libpython3.12 libpython3.12-minimal libpython3.12-stdlib mailcap mime-support python3.12-lib2to3\n",
            "  python3.12-minimal\n",
            "Suggested packages:\n",
            "  python3.12-venv binfmt-support\n",
            "The following NEW packages will be installed:\n",
            "  libpython3.12 libpython3.12-dev libpython3.12-minimal libpython3.12-stdlib mailcap mime-support\n",
            "  python3.12 python3.12-dev python3.12-distutils python3.12-lib2to3 python3.12-minimal\n",
            "0 upgraded, 11 newly installed, 0 to remove and 35 not upgraded.\n",
            "Need to get 15.0 MB of archives.\n",
            "After this operation, 63.0 MB of additional disk space will be used.\n",
            "Get:1 http://archive.ubuntu.com/ubuntu jammy/main amd64 mailcap all 3.70+nmu1ubuntu1 [23.8 kB]\n",
            "Get:2 http://archive.ubuntu.com/ubuntu jammy/main amd64 mime-support all 3.66 [3,696 B]\n",
            "Get:3 https://ppa.launchpadcontent.net/deadsnakes/ppa/ubuntu jammy/main amd64 libpython3.12-minimal amd64 3.12.1-1+jammy3 [873 kB]\n",
            "Get:4 https://ppa.launchpadcontent.net/deadsnakes/ppa/ubuntu jammy/main amd64 python3.12-minimal amd64 3.12.1-1+jammy3 [2,516 kB]\n",
            "Get:5 https://ppa.launchpadcontent.net/deadsnakes/ppa/ubuntu jammy/main amd64 libpython3.12-stdlib amd64 3.12.1-1+jammy3 [2,031 kB]\n",
            "Get:6 https://ppa.launchpadcontent.net/deadsnakes/ppa/ubuntu jammy/main amd64 libpython3.12 amd64 3.12.1-1+jammy3 [2,360 kB]\n",
            "Get:7 https://ppa.launchpadcontent.net/deadsnakes/ppa/ubuntu jammy/main amd64 libpython3.12-dev amd64 3.12.1-1+jammy3 [5,707 kB]\n",
            "Get:8 https://ppa.launchpadcontent.net/deadsnakes/ppa/ubuntu jammy/main amd64 python3.12 amd64 3.12.1-1+jammy3 [685 kB]\n",
            "Get:9 https://ppa.launchpadcontent.net/deadsnakes/ppa/ubuntu jammy/main amd64 python3.12-dev amd64 3.12.1-1+jammy3 [498 kB]\n",
            "Get:10 https://ppa.launchpadcontent.net/deadsnakes/ppa/ubuntu jammy/main amd64 python3.12-lib2to3 all 3.12.1-1+jammy3 [127 kB]\n",
            "Get:11 https://ppa.launchpadcontent.net/deadsnakes/ppa/ubuntu jammy/main amd64 python3.12-distutils all 3.12.0~a1-1+jammy1 [182 kB]\n",
            "Fetched 15.0 MB in 4s (4,211 kB/s)\n",
            "Selecting previously unselected package libpython3.12-minimal:amd64.\n",
            "(Reading database ... 121749 files and directories currently installed.)\n",
            "Preparing to unpack .../00-libpython3.12-minimal_3.12.1-1+jammy3_amd64.deb ...\n",
            "Unpacking libpython3.12-minimal:amd64 (3.12.1-1+jammy3) ...\n",
            "Selecting previously unselected package python3.12-minimal.\n",
            "Preparing to unpack .../01-python3.12-minimal_3.12.1-1+jammy3_amd64.deb ...\n",
            "Unpacking python3.12-minimal (3.12.1-1+jammy3) ...\n",
            "Selecting previously unselected package mailcap.\n",
            "Preparing to unpack .../02-mailcap_3.70+nmu1ubuntu1_all.deb ...\n",
            "Unpacking mailcap (3.70+nmu1ubuntu1) ...\n",
            "Selecting previously unselected package mime-support.\n",
            "Preparing to unpack .../03-mime-support_3.66_all.deb ...\n",
            "Unpacking mime-support (3.66) ...\n",
            "Selecting previously unselected package libpython3.12-stdlib:amd64.\n",
            "Preparing to unpack .../04-libpython3.12-stdlib_3.12.1-1+jammy3_amd64.deb ...\n",
            "Unpacking libpython3.12-stdlib:amd64 (3.12.1-1+jammy3) ...\n",
            "Selecting previously unselected package libpython3.12:amd64.\n",
            "Preparing to unpack .../05-libpython3.12_3.12.1-1+jammy3_amd64.deb ...\n",
            "Unpacking libpython3.12:amd64 (3.12.1-1+jammy3) ...\n",
            "Selecting previously unselected package libpython3.12-dev:amd64.\n",
            "Preparing to unpack .../06-libpython3.12-dev_3.12.1-1+jammy3_amd64.deb ...\n",
            "Unpacking libpython3.12-dev:amd64 (3.12.1-1+jammy3) ...\n",
            "Selecting previously unselected package python3.12.\n",
            "Preparing to unpack .../07-python3.12_3.12.1-1+jammy3_amd64.deb ...\n",
            "Unpacking python3.12 (3.12.1-1+jammy3) ...\n",
            "Selecting previously unselected package python3.12-dev.\n",
            "Preparing to unpack .../08-python3.12-dev_3.12.1-1+jammy3_amd64.deb ...\n",
            "Unpacking python3.12-dev (3.12.1-1+jammy3) ...\n",
            "Selecting previously unselected package python3.12-lib2to3.\n",
            "Preparing to unpack .../09-python3.12-lib2to3_3.12.1-1+jammy3_all.deb ...\n",
            "Unpacking python3.12-lib2to3 (3.12.1-1+jammy3) ...\n",
            "Selecting previously unselected package python3.12-distutils.\n",
            "Preparing to unpack .../10-python3.12-distutils_3.12.0~a1-1+jammy1_all.deb ...\n",
            "Unpacking python3.12-distutils (3.12.0~a1-1+jammy1) ...\n",
            "Setting up libpython3.12-minimal:amd64 (3.12.1-1+jammy3) ...\n",
            "Setting up python3.12-lib2to3 (3.12.1-1+jammy3) ...\n",
            "Setting up mailcap (3.70+nmu1ubuntu1) ...\n",
            "Setting up python3.12-minimal (3.12.1-1+jammy3) ...\n",
            "Setting up mime-support (3.66) ...\n",
            "Setting up libpython3.12-stdlib:amd64 (3.12.1-1+jammy3) ...\n",
            "Setting up python3.12-distutils (3.12.0~a1-1+jammy1) ...\n",
            "Setting up python3.12 (3.12.1-1+jammy3) ...\n",
            "Setting up libpython3.12:amd64 (3.12.1-1+jammy3) ...\n",
            "Setting up libpython3.12-dev:amd64 (3.12.1-1+jammy3) ...\n",
            "Setting up python3.12-dev (3.12.1-1+jammy3) ...\n",
            "Processing triggers for man-db (2.10.2-1) ...\n",
            "update-alternatives: using /usr/bin/python3.10 to provide /usr/bin/python3 (python3) in auto mode\n",
            "update-alternatives: using /usr/bin/python3.12 to provide /usr/bin/python3 (python3) in auto mode\n",
            "upgrade_python.sh: line 16: ${python3 --version}: bad substitution\n",
            "  % Total    % Received % Xferd  Average Speed   Time    Time     Time  Current\n",
            "                                 Dload  Upload   Total   Spent    Left  Speed\n",
            "100 2574k  100 2574k    0     0  6204k      0 --:--:-- --:--:-- --:--:-- 6217k\n",
            "Collecting pip\n",
            "  Downloading pip-24.0-py3-none-any.whl.metadata (3.6 kB)\n",
            "Collecting setuptools\n",
            "  Downloading setuptools-69.1.0-py3-none-any.whl.metadata (6.1 kB)\n",
            "Collecting wheel\n",
            "  Downloading wheel-0.42.0-py3-none-any.whl.metadata (2.2 kB)\n",
            "Downloading pip-24.0-py3-none-any.whl (2.1 MB)\n",
            "\u001b[2K   \u001b[90m━━━━━━━━━━━━━━━━━━━━━━━━━━━━━━━━━━━━━━━━\u001b[0m \u001b[32m2.1/2.1 MB\u001b[0m \u001b[31m7.6 MB/s\u001b[0m eta \u001b[36m0:00:00\u001b[0m\n",
            "\u001b[?25hDownloading setuptools-69.1.0-py3-none-any.whl (819 kB)\n",
            "\u001b[2K   \u001b[90m━━━━━━━━━━━━━━━━━━━━━━━━━━━━━━━━━━━━━━━━\u001b[0m \u001b[32m819.3/819.3 kB\u001b[0m \u001b[31m11.6 MB/s\u001b[0m eta \u001b[36m0:00:00\u001b[0m\n",
            "\u001b[?25hDownloading wheel-0.42.0-py3-none-any.whl (65 kB)\n",
            "\u001b[2K   \u001b[90m━━━━━━━━━━━━━━━━━━━━━━━━━━━━━━━━━━━━━━━━\u001b[0m \u001b[32m65.4/65.4 kB\u001b[0m \u001b[31m4.6 MB/s\u001b[0m eta \u001b[36m0:00:00\u001b[0m\n",
            "\u001b[?25hInstalling collected packages: wheel, setuptools, pip\n",
            "Successfully installed pip-24.0 setuptools-69.1.0 wheel-0.42.0\n",
            "\u001b[33mWARNING: Running pip as the 'root' user can result in broken permissions and conflicting behaviour with the system package manager. It is recommended to use a virtual environment instead: https://pip.pypa.io/warnings/venv\u001b[0m\u001b[33m\n",
            "\u001b[0mCollecting ipython\n",
            "  Downloading ipython-8.22.1-py3-none-any.whl.metadata (4.8 kB)\n",
            "Collecting ipython_genutils\n",
            "  Downloading ipython_genutils-0.2.0-py2.py3-none-any.whl (26 kB)\n",
            "Collecting ipykernel\n",
            "  Downloading ipykernel-6.29.2-py3-none-any.whl.metadata (6.0 kB)\n",
            "Collecting jupyter_console\n",
            "  Downloading jupyter_console-6.6.3-py3-none-any.whl.metadata (5.8 kB)\n",
            "Collecting prompt_toolkit\n",
            "  Downloading prompt_toolkit-3.0.43-py3-none-any.whl.metadata (6.5 kB)\n",
            "Collecting httplib2\n",
            "  Downloading httplib2-0.22.0-py3-none-any.whl.metadata (2.6 kB)\n",
            "Collecting astor\n",
            "  Downloading astor-0.8.1-py2.py3-none-any.whl (27 kB)\n",
            "Collecting decorator (from ipython)\n",
            "  Downloading decorator-5.1.1-py3-none-any.whl (9.1 kB)\n",
            "Collecting jedi>=0.16 (from ipython)\n",
            "  Downloading jedi-0.19.1-py2.py3-none-any.whl.metadata (22 kB)\n",
            "Collecting matplotlib-inline (from ipython)\n",
            "  Downloading matplotlib_inline-0.1.6-py3-none-any.whl.metadata (2.8 kB)\n",
            "Collecting pygments>=2.4.0 (from ipython)\n",
            "  Downloading pygments-2.17.2-py3-none-any.whl.metadata (2.6 kB)\n",
            "Collecting stack-data (from ipython)\n",
            "  Downloading stack_data-0.6.3-py3-none-any.whl.metadata (18 kB)\n",
            "Collecting traitlets>=5.13.0 (from ipython)\n",
            "  Downloading traitlets-5.14.1-py3-none-any.whl.metadata (10 kB)\n",
            "Collecting pexpect>4.3 (from ipython)\n",
            "  Downloading pexpect-4.9.0-py2.py3-none-any.whl.metadata (2.5 kB)\n",
            "Collecting comm>=0.1.1 (from ipykernel)\n",
            "  Downloading comm-0.2.1-py3-none-any.whl.metadata (3.7 kB)\n",
            "Collecting debugpy>=1.6.5 (from ipykernel)\n",
            "  Downloading debugpy-1.8.1-cp312-cp312-manylinux_2_5_x86_64.manylinux1_x86_64.manylinux_2_17_x86_64.manylinux2014_x86_64.whl.metadata (1.1 kB)\n",
            "Collecting jupyter-client>=6.1.12 (from ipykernel)\n",
            "  Downloading jupyter_client-8.6.0-py3-none-any.whl.metadata (8.3 kB)\n",
            "Collecting jupyter-core!=5.0.*,>=4.12 (from ipykernel)\n",
            "  Downloading jupyter_core-5.7.1-py3-none-any.whl.metadata (3.4 kB)\n",
            "Collecting nest-asyncio (from ipykernel)\n",
            "  Downloading nest_asyncio-1.6.0-py3-none-any.whl.metadata (2.8 kB)\n",
            "Collecting packaging (from ipykernel)\n",
            "  Downloading packaging-23.2-py3-none-any.whl.metadata (3.2 kB)\n",
            "Collecting psutil (from ipykernel)\n",
            "  Downloading psutil-5.9.8-cp36-abi3-manylinux_2_12_x86_64.manylinux2010_x86_64.manylinux_2_17_x86_64.manylinux2014_x86_64.whl.metadata (21 kB)\n",
            "Collecting pyzmq>=24 (from ipykernel)\n",
            "  Downloading pyzmq-25.1.2-cp312-cp312-manylinux_2_28_x86_64.whl.metadata (4.9 kB)\n",
            "Collecting tornado>=6.1 (from ipykernel)\n",
            "  Downloading tornado-6.4-cp38-abi3-manylinux_2_5_x86_64.manylinux1_x86_64.manylinux_2_17_x86_64.manylinux2014_x86_64.whl.metadata (2.5 kB)\n",
            "Collecting wcwidth (from prompt_toolkit)\n",
            "  Downloading wcwidth-0.2.13-py2.py3-none-any.whl.metadata (14 kB)\n",
            "Collecting pyparsing!=3.0.0,!=3.0.1,!=3.0.2,!=3.0.3,<4,>=2.4.2 (from httplib2)\n",
            "  Downloading pyparsing-3.1.1-py3-none-any.whl.metadata (5.1 kB)\n",
            "Collecting parso<0.9.0,>=0.8.3 (from jedi>=0.16->ipython)\n",
            "  Downloading parso-0.8.3-py2.py3-none-any.whl (100 kB)\n",
            "\u001b[2K     \u001b[90m━━━━━━━━━━━━━━━━━━━━━━━━━━━━━━━━━━━━━━━━\u001b[0m \u001b[32m100.8/100.8 kB\u001b[0m \u001b[31m4.1 MB/s\u001b[0m eta \u001b[36m0:00:00\u001b[0m\n",
            "\u001b[?25hCollecting python-dateutil>=2.8.2 (from jupyter-client>=6.1.12->ipykernel)\n",
            "  Downloading python_dateutil-2.8.2-py2.py3-none-any.whl (247 kB)\n",
            "\u001b[2K     \u001b[90m━━━━━━━━━━━━━━━━━━━━━━━━━━━━━━━━━━━━━━━━\u001b[0m \u001b[32m247.7/247.7 kB\u001b[0m \u001b[31m9.3 MB/s\u001b[0m eta \u001b[36m0:00:00\u001b[0m\n",
            "\u001b[?25hCollecting platformdirs>=2.5 (from jupyter-core!=5.0.*,>=4.12->ipykernel)\n",
            "  Downloading platformdirs-4.2.0-py3-none-any.whl.metadata (11 kB)\n",
            "Collecting ptyprocess>=0.5 (from pexpect>4.3->ipython)\n",
            "  Downloading ptyprocess-0.7.0-py2.py3-none-any.whl (13 kB)\n",
            "Collecting executing>=1.2.0 (from stack-data->ipython)\n",
            "  Downloading executing-2.0.1-py2.py3-none-any.whl.metadata (9.0 kB)\n",
            "Collecting asttokens>=2.1.0 (from stack-data->ipython)\n",
            "  Downloading asttokens-2.4.1-py2.py3-none-any.whl.metadata (5.2 kB)\n",
            "Collecting pure-eval (from stack-data->ipython)\n",
            "  Downloading pure_eval-0.2.2-py3-none-any.whl (11 kB)\n",
            "Requirement already satisfied: six>=1.12.0 in /usr/lib/python3/dist-packages (from asttokens>=2.1.0->stack-data->ipython) (1.16.0)\n",
            "Downloading ipython-8.22.1-py3-none-any.whl (811 kB)\n",
            "\u001b[2K   \u001b[90m━━━━━━━━━━━━━━━━━━━━━━━━━━━━━━━━━━━━━━━━\u001b[0m \u001b[32m812.0/812.0 kB\u001b[0m \u001b[31m29.7 MB/s\u001b[0m eta \u001b[36m0:00:00\u001b[0m\n",
            "\u001b[?25hDownloading ipykernel-6.29.2-py3-none-any.whl (116 kB)\n",
            "\u001b[2K   \u001b[90m━━━━━━━━━━━━━━━━━━━━━━━━━━━━━━━━━━━━━━━━\u001b[0m \u001b[32m116.1/116.1 kB\u001b[0m \u001b[31m7.3 MB/s\u001b[0m eta \u001b[36m0:00:00\u001b[0m\n",
            "\u001b[?25hDownloading jupyter_console-6.6.3-py3-none-any.whl (24 kB)\n",
            "Downloading prompt_toolkit-3.0.43-py3-none-any.whl (386 kB)\n",
            "\u001b[2K   \u001b[90m━━━━━━━━━━━━━━━━━━━━━━━━━━━━━━━━━━━━━━━━\u001b[0m \u001b[32m386.1/386.1 kB\u001b[0m \u001b[31m23.5 MB/s\u001b[0m eta \u001b[36m0:00:00\u001b[0m\n",
            "\u001b[?25hDownloading httplib2-0.22.0-py3-none-any.whl (96 kB)\n",
            "\u001b[2K   \u001b[90m━━━━━━━━━━━━━━━━━━━━━━━━━━━━━━━━━━━━━━━━\u001b[0m \u001b[32m96.9/96.9 kB\u001b[0m \u001b[31m6.9 MB/s\u001b[0m eta \u001b[36m0:00:00\u001b[0m\n",
            "\u001b[?25hDownloading comm-0.2.1-py3-none-any.whl (7.2 kB)\n",
            "Downloading debugpy-1.8.1-cp312-cp312-manylinux_2_5_x86_64.manylinux1_x86_64.manylinux_2_17_x86_64.manylinux2014_x86_64.whl (1.4 MB)\n",
            "\u001b[2K   \u001b[90m━━━━━━━━━━━━━━━━━━━━━━━━━━━━━━━━━━━━━━━━\u001b[0m \u001b[32m1.4/1.4 MB\u001b[0m \u001b[31m39.0 MB/s\u001b[0m eta \u001b[36m0:00:00\u001b[0m\n",
            "\u001b[?25hDownloading jedi-0.19.1-py2.py3-none-any.whl (1.6 MB)\n",
            "\u001b[2K   \u001b[90m━━━━━━━━━━━━━━━━━━━━━━━━━━━━━━━━━━━━━━━━\u001b[0m \u001b[32m1.6/1.6 MB\u001b[0m \u001b[31m51.7 MB/s\u001b[0m eta \u001b[36m0:00:00\u001b[0m\n",
            "\u001b[?25hDownloading jupyter_client-8.6.0-py3-none-any.whl (105 kB)\n",
            "\u001b[2K   \u001b[90m━━━━━━━━━━━━━━━━━━━━━━━━━━━━━━━━━━━━━━━━\u001b[0m \u001b[32m105.9/105.9 kB\u001b[0m \u001b[31m8.8 MB/s\u001b[0m eta \u001b[36m0:00:00\u001b[0m\n",
            "\u001b[?25hDownloading jupyter_core-5.7.1-py3-none-any.whl (28 kB)\n",
            "Downloading matplotlib_inline-0.1.6-py3-none-any.whl (9.4 kB)\n",
            "Downloading pexpect-4.9.0-py2.py3-none-any.whl (63 kB)\n",
            "\u001b[2K   \u001b[90m━━━━━━━━━━━━━━━━━━━━━━━━━━━━━━━━━━━━━━━━\u001b[0m \u001b[32m63.8/63.8 kB\u001b[0m \u001b[31m5.0 MB/s\u001b[0m eta \u001b[36m0:00:00\u001b[0m\n",
            "\u001b[?25hDownloading pygments-2.17.2-py3-none-any.whl (1.2 MB)\n",
            "\u001b[2K   \u001b[90m━━━━━━━━━━━━━━━━━━━━━━━━━━━━━━━━━━━━━━━━\u001b[0m \u001b[32m1.2/1.2 MB\u001b[0m \u001b[31m39.9 MB/s\u001b[0m eta \u001b[36m0:00:00\u001b[0m\n",
            "\u001b[?25hDownloading pyparsing-3.1.1-py3-none-any.whl (103 kB)\n",
            "\u001b[2K   \u001b[90m━━━━━━━━━━━━━━━━━━━━━━━━━━━━━━━━━━━━━━━━\u001b[0m \u001b[32m103.1/103.1 kB\u001b[0m \u001b[31m7.5 MB/s\u001b[0m eta \u001b[36m0:00:00\u001b[0m\n",
            "\u001b[?25hDownloading pyzmq-25.1.2-cp312-cp312-manylinux_2_28_x86_64.whl (1.1 MB)\n",
            "\u001b[2K   \u001b[90m━━━━━━━━━━━━━━━━━━━━━━━━━━━━━━━━━━━━━━━━\u001b[0m \u001b[32m1.1/1.1 MB\u001b[0m \u001b[31m43.3 MB/s\u001b[0m eta \u001b[36m0:00:00\u001b[0m\n",
            "\u001b[?25hDownloading tornado-6.4-cp38-abi3-manylinux_2_5_x86_64.manylinux1_x86_64.manylinux_2_17_x86_64.manylinux2014_x86_64.whl (435 kB)\n",
            "\u001b[2K   \u001b[90m━━━━━━━━━━━━━━━━━━━━━━━━━━━━━━━━━━━━━━━━\u001b[0m \u001b[32m435.4/435.4 kB\u001b[0m \u001b[31m27.8 MB/s\u001b[0m eta \u001b[36m0:00:00\u001b[0m\n",
            "\u001b[?25hDownloading traitlets-5.14.1-py3-none-any.whl (85 kB)\n",
            "\u001b[2K   \u001b[90m━━━━━━━━━━━━━━━━━━━━━━━━━━━━━━━━━━━━━━━━\u001b[0m \u001b[32m85.4/85.4 kB\u001b[0m \u001b[31m6.3 MB/s\u001b[0m eta \u001b[36m0:00:00\u001b[0m\n",
            "\u001b[?25hDownloading nest_asyncio-1.6.0-py3-none-any.whl (5.2 kB)\n",
            "Downloading packaging-23.2-py3-none-any.whl (53 kB)\n",
            "\u001b[2K   \u001b[90m━━━━━━━━━━━━━━━━━━━━━━━━━━━━━━━━━━━━━━━━\u001b[0m \u001b[32m53.0/53.0 kB\u001b[0m \u001b[31m3.7 MB/s\u001b[0m eta \u001b[36m0:00:00\u001b[0m\n",
            "\u001b[?25hDownloading psutil-5.9.8-cp36-abi3-manylinux_2_12_x86_64.manylinux2010_x86_64.manylinux_2_17_x86_64.manylinux2014_x86_64.whl (288 kB)\n",
            "\u001b[2K   \u001b[90m━━━━━━━━━━━━━━━━━━━━━━━━━━━━━━━━━━━━━━━━\u001b[0m \u001b[32m288.2/288.2 kB\u001b[0m \u001b[31m20.0 MB/s\u001b[0m eta \u001b[36m0:00:00\u001b[0m\n",
            "\u001b[?25hDownloading stack_data-0.6.3-py3-none-any.whl (24 kB)\n",
            "Downloading wcwidth-0.2.13-py2.py3-none-any.whl (34 kB)\n",
            "Downloading asttokens-2.4.1-py2.py3-none-any.whl (27 kB)\n",
            "Downloading executing-2.0.1-py2.py3-none-any.whl (24 kB)\n",
            "Downloading platformdirs-4.2.0-py3-none-any.whl (17 kB)\n",
            "Installing collected packages: wcwidth, pure-eval, ptyprocess, ipython_genutils, traitlets, tornado, pyzmq, python-dateutil, pyparsing, pygments, psutil, prompt_toolkit, platformdirs, pexpect, parso, packaging, nest-asyncio, executing, decorator, debugpy, asttokens, astor, stack-data, matplotlib-inline, jupyter-core, jedi, httplib2, comm, jupyter-client, ipython, ipykernel, jupyter_console\n",
            "Successfully installed astor-0.8.1 asttokens-2.4.1 comm-0.2.1 debugpy-1.8.1 decorator-5.1.1 executing-2.0.1 httplib2-0.22.0 ipykernel-6.29.2 ipython-8.22.1 ipython_genutils-0.2.0 jedi-0.19.1 jupyter-client-8.6.0 jupyter-core-5.7.1 jupyter_console-6.6.3 matplotlib-inline-0.1.6 nest-asyncio-1.6.0 packaging-23.2 parso-0.8.3 pexpect-4.9.0 platformdirs-4.2.0 prompt_toolkit-3.0.43 psutil-5.9.8 ptyprocess-0.7.0 pure-eval-0.2.2 pygments-2.17.2 pyparsing-3.1.1 python-dateutil-2.8.2 pyzmq-25.1.2 stack-data-0.6.3 tornado-6.4 traitlets-5.14.1 wcwidth-0.2.13\n",
            "\u001b[33mWARNING: Running pip as the 'root' user can result in broken permissions and conflicting behaviour with the system package manager. It is recommended to use a virtual environment instead: https://pip.pypa.io/warnings/venv\u001b[0m\u001b[33m\n",
            "\u001b[0m"
          ]
        }
      ],
      "source": [
        "!bash upgrade_python.sh python3.10 python3.12"
      ]
    },
    {
      "cell_type": "code",
      "execution_count": 4,
      "metadata": {
        "colab": {
          "base_uri": "https://localhost:8080/"
        },
        "id": "nXtVfEC-gd3s",
        "outputId": "81a48504-6f06-4d9c-ec7b-f6fa43468da7"
      },
      "outputs": [
        {
          "name": "stdout",
          "output_type": "stream",
          "text": [
            "3.10.12 (main, Nov 20 2023, 15:14:05) [GCC 11.4.0]\n",
            "Python 3.12.1\n",
            "Python 3.12.1\n"
          ]
        }
      ],
      "source": [
        "import sys\n",
        "print(sys.version)\n",
        "!python3 --version\n",
        "!python --version"
      ]
    },
    {
      "cell_type": "markdown",
      "metadata": {
        "id": "vDgmP6d_g6BO"
      },
      "source": [
        "# Test Harvester-Curator using python3.12"
      ]
    },
    {
      "cell_type": "markdown",
      "metadata": {
        "id": "qzYPyKhSlpUy"
      },
      "source": [
        "## Git clone Harvester-Curator repo and install required packages"
      ]
    },
    {
      "cell_type": "code",
      "execution_count": 25,
      "metadata": {
        "colab": {
          "base_uri": "https://localhost:8080/"
        },
        "id": "LGloO9xDxbDr",
        "outputId": "41dc97e6-1708-4d09-f28c-6cd82cd67d62"
      },
      "outputs": [
        {
          "name": "stdout",
          "output_type": "stream",
          "text": [
            "/content\n"
          ]
        }
      ],
      "source": [
        "# Before git cloning, remove Harvester-Curator folder if it already exists\n",
        "!tool_name=\"Harvester-Curator\"\n",
        "!if [ -d /content/${tool_name} ]; then rm -Rf ${tool_name}; fi\n",
        "%cd /content"
      ]
    },
    {
      "cell_type": "code",
      "execution_count": 26,
      "metadata": {
        "colab": {
          "base_uri": "https://localhost:8080/"
        },
        "id": "fTlh48diODIt",
        "outputId": "2ee38144-0d86-47c3-beb7-bb0334d0f453"
      },
      "outputs": [
        {
          "name": "stdout",
          "output_type": "stream",
          "text": [
            "fatal: destination path 'Harvester-Curator' already exists and is not an empty directory.\n"
          ]
        }
      ],
      "source": [
        "!git clone --filter=blob:none --quiet https://github.com/SimTech-Research-Data-Management/Harvester-Curator.git"
      ]
    },
    {
      "cell_type": "code",
      "execution_count": 27,
      "metadata": {
        "colab": {
          "base_uri": "https://localhost:8080/"
        },
        "id": "kIDOfmBWP2yF",
        "outputId": "8a9ef8ac-04a2-4321-d6e4-0d2b88d99928"
      },
      "outputs": [
        {
          "name": "stdout",
          "output_type": "stream",
          "text": [
            "/content/Harvester-Curator\n"
          ]
        }
      ],
      "source": [
        "# Change directory to be Harvester_Curator\n",
        "%cd Harvester-Curator"
      ]
    },
    {
      "cell_type": "code",
      "execution_count": 28,
      "metadata": {
        "colab": {
          "base_uri": "https://localhost:8080/"
        },
        "id": "tevjRHPcYObV",
        "outputId": "b75892c3-5fe4-404c-8913-4c879e3938d8"
      },
      "outputs": [
        {
          "name": "stdout",
          "output_type": "stream",
          "text": [
            "Already on 'easydataverse-v0.4.0-migration'\n",
            "Your branch is up to date with 'origin/easydataverse-v0.4.0-migration'.\n",
            "remote: Enumerating objects: 3, done.\u001b[K\n",
            "remote: Counting objects: 100% (3/3), done.\u001b[K\n",
            "remote: Compressing objects: 100% (1/1), done.\u001b[K\n",
            "remote: Total 2 (delta 1), reused 2 (delta 1), pack-reused 0\u001b[K\n",
            "Receiving objects: 100% (2/2), 279 bytes | 279.00 KiB/s, done.\n",
            "Resolving deltas: 100% (1/1), completed with 1 local object.\n",
            "From https://github.com/SimTech-Research-Data-Management/Harvester-Curator\n",
            " * branch            easydataverse-v0.4.0-migration -> FETCH_HEAD\n",
            "   1f25226..95ef2a8  easydataverse-v0.4.0-migration -> origin/easydataverse-v0.4.0-migration\n",
            "Updating 1f25226..95ef2a8\n",
            "remote: Enumerating objects: 1, done.\u001b[K\n",
            "remote: Counting objects: 100% (1/1), done.\u001b[K\n",
            "remote: Total 1 (delta 0), reused 0 (delta 0), pack-reused 0\u001b[K\n",
            "Receiving objects: 100% (1/1), 1.33 KiB | 1.33 MiB/s, done.\n",
            "Fast-forward\n",
            " cli.py | 65 \u001b[32m+++++++++++++++++++++++++++++++++++++++++++++\u001b[m\u001b[31m--------------------\u001b[m\n",
            " 1 file changed, 45 insertions(+), 20 deletions(-)\n"
          ]
        }
      ],
      "source": [
        "# Pull the branch easydataverse-v0.4.0-migration\n",
        "!git checkout easydataverse-v0.4.0-migration\n",
        "!git pull origin easydataverse-v0.4.0-migration"
      ]
    },
    {
      "cell_type": "code",
      "execution_count": 9,
      "metadata": {
        "colab": {
          "base_uri": "https://localhost:8080/"
        },
        "id": "gB69yU2hQCO8",
        "outputId": "d01c7570-8bdc-44f9-c9f8-158e27997cb9"
      },
      "outputs": [
        {
          "name": "stdout",
          "output_type": "stream",
          "text": [
            "Collecting git+https://github.com/gdcc/easyDataverse.git@flexible-connect (from -r requirements.txt (line 8))\n",
            "  Cloning https://github.com/gdcc/easyDataverse.git (to revision flexible-connect) to /tmp/pip-req-build-8uyax3ra\n",
            "  Running command git clone --filter=blob:none --quiet https://github.com/gdcc/easyDataverse.git /tmp/pip-req-build-8uyax3ra\n",
            "  Running command git checkout -b flexible-connect --track origin/flexible-connect\n",
            "  Switched to a new branch 'flexible-connect'\n",
            "  Branch 'flexible-connect' set up to track remote branch 'flexible-connect' from 'origin'.\n",
            "  Resolved https://github.com/gdcc/easyDataverse.git to commit e1f5b9acc5d89e4b814dbba189c54def58bdac1d\n",
            "  Preparing metadata (setup.py) ... \u001b[?25l\u001b[?25hdone\n",
            "Collecting cffconvert==2.0.0 (from -r requirements.txt (line 1))\n",
            "  Downloading cffconvert-2.0.0-py3-none-any.whl (183 kB)\n",
            "\u001b[2K     \u001b[90m━━━━━━━━━━━━━━━━━━━━━━━━━━━━━━━━━━━━━━━━\u001b[0m \u001b[32m183.5/183.5 kB\u001b[0m \u001b[31m3.6 MB/s\u001b[0m eta \u001b[36m0:00:00\u001b[0m\n",
            "\u001b[?25hCollecting pydantic==2.6.1 (from -r requirements.txt (line 2))\n",
            "  Downloading pydantic-2.6.1-py3-none-any.whl.metadata (83 kB)\n",
            "\u001b[2K     \u001b[90m━━━━━━━━━━━━━━━━━━━━━━━━━━━━━━━━━━━━━━━━\u001b[0m \u001b[32m83.5/83.5 kB\u001b[0m \u001b[31m4.3 MB/s\u001b[0m eta \u001b[36m0:00:00\u001b[0m\n",
            "\u001b[?25hCollecting PyYAML==6.0.1 (from -r requirements.txt (line 3))\n",
            "  Downloading PyYAML-6.0.1-cp312-cp312-manylinux_2_17_x86_64.manylinux2014_x86_64.whl.metadata (2.1 kB)\n",
            "Collecting h5py==3.10.0 (from -r requirements.txt (line 4))\n",
            "  Downloading h5py-3.10.0-cp312-cp312-manylinux_2_17_x86_64.manylinux2014_x86_64.whl.metadata (2.5 kB)\n",
            "Collecting pyvista==0.43.3 (from -r requirements.txt (line 5))\n",
            "  Downloading pyvista-0.43.3-py3-none-any.whl.metadata (14 kB)\n",
            "Collecting vtk==9.3.0 (from -r requirements.txt (line 6))\n",
            "  Downloading vtk-9.3.0-cp312-cp312-manylinux_2_17_x86_64.manylinux2014_x86_64.whl.metadata (5.2 kB)\n",
            "Collecting python-magic==0.4.27 (from -r requirements.txt (line 7))\n",
            "  Downloading python_magic-0.4.27-py2.py3-none-any.whl.metadata (5.8 kB)\n",
            "Collecting click<9,>=7.0 (from cffconvert==2.0.0->-r requirements.txt (line 1))\n",
            "  Downloading click-8.1.7-py3-none-any.whl.metadata (3.0 kB)\n",
            "Collecting requests<3,>=2.20 (from cffconvert==2.0.0->-r requirements.txt (line 1))\n",
            "  Downloading requests-2.31.0-py3-none-any.whl.metadata (4.6 kB)\n",
            "Collecting ruamel.yaml>=0.16.0 (from cffconvert==2.0.0->-r requirements.txt (line 1))\n",
            "  Downloading ruamel.yaml-0.18.6-py3-none-any.whl.metadata (23 kB)\n",
            "Collecting pykwalify>=1.6 (from cffconvert==2.0.0->-r requirements.txt (line 1))\n",
            "  Downloading pykwalify-1.8.0-py2.py3-none-any.whl (24 kB)\n",
            "Collecting jsonschema<4,>=3.0 (from cffconvert==2.0.0->-r requirements.txt (line 1))\n",
            "  Downloading jsonschema-3.2.0-py2.py3-none-any.whl (56 kB)\n",
            "\u001b[2K     \u001b[90m━━━━━━━━━━━━━━━━━━━━━━━━━━━━━━━━━━━━━━━━\u001b[0m \u001b[32m56.3/56.3 kB\u001b[0m \u001b[31m3.9 MB/s\u001b[0m eta \u001b[36m0:00:00\u001b[0m\n",
            "\u001b[?25hCollecting annotated-types>=0.4.0 (from pydantic==2.6.1->-r requirements.txt (line 2))\n",
            "  Downloading annotated_types-0.6.0-py3-none-any.whl.metadata (12 kB)\n",
            "Collecting pydantic-core==2.16.2 (from pydantic==2.6.1->-r requirements.txt (line 2))\n",
            "  Downloading pydantic_core-2.16.2-cp312-cp312-manylinux_2_17_x86_64.manylinux2014_x86_64.whl.metadata (6.5 kB)\n",
            "Collecting typing-extensions>=4.6.1 (from pydantic==2.6.1->-r requirements.txt (line 2))\n",
            "  Downloading typing_extensions-4.9.0-py3-none-any.whl.metadata (3.0 kB)\n",
            "Collecting numpy>=1.17.3 (from h5py==3.10.0->-r requirements.txt (line 4))\n",
            "  Downloading numpy-1.26.4-cp312-cp312-manylinux_2_17_x86_64.manylinux2014_x86_64.whl.metadata (61 kB)\n",
            "\u001b[2K     \u001b[90m━━━━━━━━━━━━━━━━━━━━━━━━━━━━━━━━━━━━━━━━\u001b[0m \u001b[32m61.0/61.0 kB\u001b[0m \u001b[31m4.7 MB/s\u001b[0m eta \u001b[36m0:00:00\u001b[0m\n",
            "\u001b[?25hCollecting matplotlib>=3.0.1 (from pyvista==0.43.3->-r requirements.txt (line 5))\n",
            "  Downloading matplotlib-3.8.3-cp312-cp312-manylinux_2_17_x86_64.manylinux2014_x86_64.whl.metadata (5.8 kB)\n",
            "Collecting pillow (from pyvista==0.43.3->-r requirements.txt (line 5))\n",
            "  Downloading pillow-10.2.0-cp312-cp312-manylinux_2_28_x86_64.whl.metadata (9.7 kB)\n",
            "Collecting pooch (from pyvista==0.43.3->-r requirements.txt (line 5))\n",
            "  Downloading pooch-1.8.1-py3-none-any.whl.metadata (9.5 kB)\n",
            "Collecting scooby>=0.5.1 (from pyvista==0.43.3->-r requirements.txt (line 5))\n",
            "  Downloading scooby-0.9.2-py3-none-any.whl.metadata (15 kB)\n",
            "Collecting jinja2 (from easyDataverse==0.4.0->-r requirements.txt (line 8))\n",
            "  Downloading Jinja2-3.1.3-py3-none-any.whl.metadata (3.3 kB)\n",
            "Collecting pydataverse (from easyDataverse==0.4.0->-r requirements.txt (line 8))\n",
            "  Downloading pyDataverse-0.3.1-py3-none-any.whl (32 kB)\n",
            "Collecting pyaml (from easyDataverse==0.4.0->-r requirements.txt (line 8))\n",
            "  Downloading pyaml-23.12.0-py3-none-any.whl.metadata (11 kB)\n",
            "Collecting xmltodict (from easyDataverse==0.4.0->-r requirements.txt (line 8))\n",
            "  Downloading xmltodict-0.13.0-py2.py3-none-any.whl.metadata (7.7 kB)\n",
            "Collecting typer (from easyDataverse==0.4.0->-r requirements.txt (line 8))\n",
            "  Downloading typer-0.9.0-py3-none-any.whl.metadata (14 kB)\n",
            "Collecting python-forge (from easyDataverse==0.4.0->-r requirements.txt (line 8))\n",
            "  Downloading python_forge-18.6.0-py35-none-any.whl (31 kB)\n",
            "Collecting anytree (from easyDataverse==0.4.0->-r requirements.txt (line 8))\n",
            "  Downloading anytree-2.12.1-py3-none-any.whl.metadata (8.1 kB)\n",
            "Collecting dotted-dict==1.1.3 (from easyDataverse==0.4.0->-r requirements.txt (line 8))\n",
            "  Downloading dotted_dict-1.1.3-py2.py3-none-any.whl (3.7 kB)\n",
            "Collecting rich (from easyDataverse==0.4.0->-r requirements.txt (line 8))\n",
            "  Downloading rich-13.7.0-py3-none-any.whl.metadata (18 kB)\n",
            "Collecting nob (from easyDataverse==0.4.0->-r requirements.txt (line 8))\n",
            "  Downloading nob-0.8.2-py2.py3-none-any.whl.metadata (1.6 kB)\n",
            "Requirement already satisfied: nest_asyncio in /usr/local/lib/python3.12/dist-packages (from easyDataverse==0.4.0->-r requirements.txt (line 8)) (1.6.0)\n",
            "Collecting aiohttp (from easyDataverse==0.4.0->-r requirements.txt (line 8))\n",
            "  Downloading aiohttp-3.9.3-cp312-cp312-manylinux_2_17_x86_64.manylinux2014_x86_64.whl.metadata (7.4 kB)\n",
            "Collecting aiodns (from easyDataverse==0.4.0->-r requirements.txt (line 8))\n",
            "  Downloading aiodns-3.1.1-py3-none-any.whl.metadata (4.0 kB)\n",
            "Collecting dvuploader (from easyDataverse==0.4.0->-r requirements.txt (line 8))\n",
            "  Downloading dvuploader-0.2.1-py3-none-any.whl.metadata (5.0 kB)\n",
            "Collecting email_validator (from easyDataverse==0.4.0->-r requirements.txt (line 8))\n",
            "  Downloading email_validator-2.1.0.post1-py3-none-any.whl.metadata (25 kB)\n",
            "Collecting attrs>=17.4.0 (from jsonschema<4,>=3.0->cffconvert==2.0.0->-r requirements.txt (line 1))\n",
            "  Downloading attrs-23.2.0-py3-none-any.whl.metadata (9.5 kB)\n",
            "Collecting pyrsistent>=0.14.0 (from jsonschema<4,>=3.0->cffconvert==2.0.0->-r requirements.txt (line 1))\n",
            "  Downloading pyrsistent-0.20.0-cp312-cp312-manylinux_2_17_x86_64.manylinux2014_x86_64.whl.metadata (27 kB)\n",
            "Requirement already satisfied: setuptools in /usr/local/lib/python3.12/dist-packages (from jsonschema<4,>=3.0->cffconvert==2.0.0->-r requirements.txt (line 1)) (69.1.0)\n",
            "Requirement already satisfied: six>=1.11.0 in /usr/lib/python3/dist-packages (from jsonschema<4,>=3.0->cffconvert==2.0.0->-r requirements.txt (line 1)) (1.16.0)\n",
            "Collecting contourpy>=1.0.1 (from matplotlib>=3.0.1->pyvista==0.43.3->-r requirements.txt (line 5))\n",
            "  Downloading contourpy-1.2.0-cp312-cp312-manylinux_2_17_x86_64.manylinux2014_x86_64.whl.metadata (5.8 kB)\n",
            "Collecting cycler>=0.10 (from matplotlib>=3.0.1->pyvista==0.43.3->-r requirements.txt (line 5))\n",
            "  Downloading cycler-0.12.1-py3-none-any.whl.metadata (3.8 kB)\n",
            "Collecting fonttools>=4.22.0 (from matplotlib>=3.0.1->pyvista==0.43.3->-r requirements.txt (line 5))\n",
            "  Downloading fonttools-4.49.0-cp312-cp312-manylinux_2_5_x86_64.manylinux1_x86_64.manylinux_2_17_x86_64.manylinux2014_x86_64.whl.metadata (159 kB)\n",
            "\u001b[2K     \u001b[90m━━━━━━━━━━━━━━━━━━━━━━━━━━━━━━━━━━━━━━━━\u001b[0m \u001b[32m159.1/159.1 kB\u001b[0m \u001b[31m5.5 MB/s\u001b[0m eta \u001b[36m0:00:00\u001b[0m\n",
            "\u001b[?25hCollecting kiwisolver>=1.3.1 (from matplotlib>=3.0.1->pyvista==0.43.3->-r requirements.txt (line 5))\n",
            "  Downloading kiwisolver-1.4.5-cp312-cp312-manylinux_2_17_x86_64.manylinux2014_x86_64.whl.metadata (6.4 kB)\n",
            "Requirement already satisfied: packaging>=20.0 in /usr/local/lib/python3.12/dist-packages (from matplotlib>=3.0.1->pyvista==0.43.3->-r requirements.txt (line 5)) (23.2)\n",
            "Requirement already satisfied: pyparsing>=2.3.1 in /usr/local/lib/python3.12/dist-packages (from matplotlib>=3.0.1->pyvista==0.43.3->-r requirements.txt (line 5)) (3.1.1)\n",
            "Requirement already satisfied: python-dateutil>=2.7 in /usr/local/lib/python3.12/dist-packages (from matplotlib>=3.0.1->pyvista==0.43.3->-r requirements.txt (line 5)) (2.8.2)\n",
            "Collecting docopt>=0.6.2 (from pykwalify>=1.6->cffconvert==2.0.0->-r requirements.txt (line 1))\n",
            "  Downloading docopt-0.6.2.tar.gz (25 kB)\n",
            "  Preparing metadata (setup.py) ... \u001b[?25l\u001b[?25hdone\n",
            "Collecting charset-normalizer<4,>=2 (from requests<3,>=2.20->cffconvert==2.0.0->-r requirements.txt (line 1))\n",
            "  Downloading charset_normalizer-3.3.2-cp312-cp312-manylinux_2_17_x86_64.manylinux2014_x86_64.whl.metadata (33 kB)\n",
            "Collecting idna<4,>=2.5 (from requests<3,>=2.20->cffconvert==2.0.0->-r requirements.txt (line 1))\n",
            "  Downloading idna-3.6-py3-none-any.whl.metadata (9.9 kB)\n",
            "Collecting urllib3<3,>=1.21.1 (from requests<3,>=2.20->cffconvert==2.0.0->-r requirements.txt (line 1))\n",
            "  Downloading urllib3-2.2.1-py3-none-any.whl.metadata (6.4 kB)\n",
            "Collecting certifi>=2017.4.17 (from requests<3,>=2.20->cffconvert==2.0.0->-r requirements.txt (line 1))\n",
            "  Downloading certifi-2024.2.2-py3-none-any.whl.metadata (2.2 kB)\n",
            "Collecting ruamel.yaml.clib>=0.2.7 (from ruamel.yaml>=0.16.0->cffconvert==2.0.0->-r requirements.txt (line 1))\n",
            "  Downloading ruamel.yaml.clib-0.2.8-cp312-cp312-manylinux_2_17_x86_64.manylinux2014_x86_64.manylinux_2_28_x86_64.whl.metadata (2.2 kB)\n",
            "Collecting pycares>=4.0.0 (from aiodns->easyDataverse==0.4.0->-r requirements.txt (line 8))\n",
            "  Downloading pycares-4.4.0-cp312-cp312-manylinux_2_17_x86_64.manylinux2014_x86_64.whl.metadata (4.1 kB)\n",
            "Collecting aiosignal>=1.1.2 (from aiohttp->easyDataverse==0.4.0->-r requirements.txt (line 8))\n",
            "  Downloading aiosignal-1.3.1-py3-none-any.whl.metadata (4.0 kB)\n",
            "Collecting frozenlist>=1.1.1 (from aiohttp->easyDataverse==0.4.0->-r requirements.txt (line 8))\n",
            "  Downloading frozenlist-1.4.1-cp312-cp312-manylinux_2_5_x86_64.manylinux1_x86_64.manylinux_2_17_x86_64.manylinux2014_x86_64.whl.metadata (12 kB)\n",
            "Collecting multidict<7.0,>=4.5 (from aiohttp->easyDataverse==0.4.0->-r requirements.txt (line 8))\n",
            "  Downloading multidict-6.0.5-cp312-cp312-manylinux_2_17_x86_64.manylinux2014_x86_64.whl.metadata (4.2 kB)\n",
            "Collecting yarl<2.0,>=1.0 (from aiohttp->easyDataverse==0.4.0->-r requirements.txt (line 8))\n",
            "  Downloading yarl-1.9.4-cp312-cp312-manylinux_2_17_x86_64.manylinux2014_x86_64.whl.metadata (31 kB)\n",
            "Collecting aiofiles<24.0.0,>=23.2.1 (from dvuploader->easyDataverse==0.4.0->-r requirements.txt (line 8))\n",
            "  Downloading aiofiles-23.2.1-py3-none-any.whl.metadata (9.7 kB)\n",
            "Collecting ipywidgets<9.0.0,>=8.1.1 (from dvuploader->easyDataverse==0.4.0->-r requirements.txt (line 8))\n",
            "  Downloading ipywidgets-8.1.2-py3-none-any.whl.metadata (2.4 kB)\n",
            "Collecting markdown-it-py>=2.2.0 (from rich->easyDataverse==0.4.0->-r requirements.txt (line 8))\n",
            "  Downloading markdown_it_py-3.0.0-py3-none-any.whl.metadata (6.9 kB)\n",
            "Requirement already satisfied: pygments<3.0.0,>=2.13.0 in /usr/local/lib/python3.12/dist-packages (from rich->easyDataverse==0.4.0->-r requirements.txt (line 8)) (2.17.2)\n",
            "Collecting dnspython>=2.0.0 (from email_validator->easyDataverse==0.4.0->-r requirements.txt (line 8))\n",
            "  Downloading dnspython-2.6.1-py3-none-any.whl.metadata (5.8 kB)\n",
            "Collecting MarkupSafe>=2.0 (from jinja2->easyDataverse==0.4.0->-r requirements.txt (line 8))\n",
            "  Downloading MarkupSafe-2.1.5-cp312-cp312-manylinux_2_17_x86_64.manylinux2014_x86_64.whl.metadata (3.0 kB)\n",
            "Requirement already satisfied: platformdirs>=2.5.0 in /usr/local/lib/python3.12/dist-packages (from pooch->pyvista==0.43.3->-r requirements.txt (line 5)) (4.2.0)\n",
            "Requirement already satisfied: comm>=0.1.3 in /usr/local/lib/python3.12/dist-packages (from ipywidgets<9.0.0,>=8.1.1->dvuploader->easyDataverse==0.4.0->-r requirements.txt (line 8)) (0.2.1)\n",
            "Requirement already satisfied: ipython>=6.1.0 in /usr/local/lib/python3.12/dist-packages (from ipywidgets<9.0.0,>=8.1.1->dvuploader->easyDataverse==0.4.0->-r requirements.txt (line 8)) (8.22.1)\n",
            "Requirement already satisfied: traitlets>=4.3.1 in /usr/local/lib/python3.12/dist-packages (from ipywidgets<9.0.0,>=8.1.1->dvuploader->easyDataverse==0.4.0->-r requirements.txt (line 8)) (5.14.1)\n",
            "Collecting widgetsnbextension~=4.0.10 (from ipywidgets<9.0.0,>=8.1.1->dvuploader->easyDataverse==0.4.0->-r requirements.txt (line 8))\n",
            "  Downloading widgetsnbextension-4.0.10-py3-none-any.whl.metadata (1.6 kB)\n",
            "Collecting jupyterlab-widgets~=3.0.10 (from ipywidgets<9.0.0,>=8.1.1->dvuploader->easyDataverse==0.4.0->-r requirements.txt (line 8))\n",
            "  Downloading jupyterlab_widgets-3.0.10-py3-none-any.whl.metadata (4.1 kB)\n",
            "Collecting mdurl~=0.1 (from markdown-it-py>=2.2.0->rich->easyDataverse==0.4.0->-r requirements.txt (line 8))\n",
            "  Downloading mdurl-0.1.2-py3-none-any.whl.metadata (1.6 kB)\n",
            "Collecting cffi>=1.5.0 (from pycares>=4.0.0->aiodns->easyDataverse==0.4.0->-r requirements.txt (line 8))\n",
            "  Downloading cffi-1.16.0-cp312-cp312-manylinux_2_17_x86_64.manylinux2014_x86_64.whl.metadata (1.5 kB)\n",
            "Collecting pycparser (from cffi>=1.5.0->pycares>=4.0.0->aiodns->easyDataverse==0.4.0->-r requirements.txt (line 8))\n",
            "  Downloading pycparser-2.21-py2.py3-none-any.whl (118 kB)\n",
            "\u001b[2K     \u001b[90m━━━━━━━━━━━━━━━━━━━━━━━━━━━━━━━━━━━━━━━━\u001b[0m \u001b[32m118.7/118.7 kB\u001b[0m \u001b[31m6.8 MB/s\u001b[0m eta \u001b[36m0:00:00\u001b[0m\n",
            "\u001b[?25hRequirement already satisfied: decorator in /usr/local/lib/python3.12/dist-packages (from ipython>=6.1.0->ipywidgets<9.0.0,>=8.1.1->dvuploader->easyDataverse==0.4.0->-r requirements.txt (line 8)) (5.1.1)\n",
            "Requirement already satisfied: jedi>=0.16 in /usr/local/lib/python3.12/dist-packages (from ipython>=6.1.0->ipywidgets<9.0.0,>=8.1.1->dvuploader->easyDataverse==0.4.0->-r requirements.txt (line 8)) (0.19.1)\n",
            "Requirement already satisfied: matplotlib-inline in /usr/local/lib/python3.12/dist-packages (from ipython>=6.1.0->ipywidgets<9.0.0,>=8.1.1->dvuploader->easyDataverse==0.4.0->-r requirements.txt (line 8)) (0.1.6)\n",
            "Requirement already satisfied: prompt-toolkit<3.1.0,>=3.0.41 in /usr/local/lib/python3.12/dist-packages (from ipython>=6.1.0->ipywidgets<9.0.0,>=8.1.1->dvuploader->easyDataverse==0.4.0->-r requirements.txt (line 8)) (3.0.43)\n",
            "Requirement already satisfied: stack-data in /usr/local/lib/python3.12/dist-packages (from ipython>=6.1.0->ipywidgets<9.0.0,>=8.1.1->dvuploader->easyDataverse==0.4.0->-r requirements.txt (line 8)) (0.6.3)\n",
            "Requirement already satisfied: pexpect>4.3 in /usr/local/lib/python3.12/dist-packages (from ipython>=6.1.0->ipywidgets<9.0.0,>=8.1.1->dvuploader->easyDataverse==0.4.0->-r requirements.txt (line 8)) (4.9.0)\n",
            "Requirement already satisfied: parso<0.9.0,>=0.8.3 in /usr/local/lib/python3.12/dist-packages (from jedi>=0.16->ipython>=6.1.0->ipywidgets<9.0.0,>=8.1.1->dvuploader->easyDataverse==0.4.0->-r requirements.txt (line 8)) (0.8.3)\n",
            "Requirement already satisfied: ptyprocess>=0.5 in /usr/local/lib/python3.12/dist-packages (from pexpect>4.3->ipython>=6.1.0->ipywidgets<9.0.0,>=8.1.1->dvuploader->easyDataverse==0.4.0->-r requirements.txt (line 8)) (0.7.0)\n",
            "Requirement already satisfied: wcwidth in /usr/local/lib/python3.12/dist-packages (from prompt-toolkit<3.1.0,>=3.0.41->ipython>=6.1.0->ipywidgets<9.0.0,>=8.1.1->dvuploader->easyDataverse==0.4.0->-r requirements.txt (line 8)) (0.2.13)\n",
            "Requirement already satisfied: executing>=1.2.0 in /usr/local/lib/python3.12/dist-packages (from stack-data->ipython>=6.1.0->ipywidgets<9.0.0,>=8.1.1->dvuploader->easyDataverse==0.4.0->-r requirements.txt (line 8)) (2.0.1)\n",
            "Requirement already satisfied: asttokens>=2.1.0 in /usr/local/lib/python3.12/dist-packages (from stack-data->ipython>=6.1.0->ipywidgets<9.0.0,>=8.1.1->dvuploader->easyDataverse==0.4.0->-r requirements.txt (line 8)) (2.4.1)\n",
            "Requirement already satisfied: pure-eval in /usr/local/lib/python3.12/dist-packages (from stack-data->ipython>=6.1.0->ipywidgets<9.0.0,>=8.1.1->dvuploader->easyDataverse==0.4.0->-r requirements.txt (line 8)) (0.2.2)\n",
            "Downloading pydantic-2.6.1-py3-none-any.whl (394 kB)\n",
            "\u001b[2K   \u001b[90m━━━━━━━━━━━━━━━━━━━━━━━━━━━━━━━━━━━━━━━━\u001b[0m \u001b[32m394.8/394.8 kB\u001b[0m \u001b[31m8.2 MB/s\u001b[0m eta \u001b[36m0:00:00\u001b[0m\n",
            "\u001b[?25hDownloading PyYAML-6.0.1-cp312-cp312-manylinux_2_17_x86_64.manylinux2014_x86_64.whl (724 kB)\n",
            "\u001b[2K   \u001b[90m━━━━━━━━━━━━━━━━━━━━━━━━━━━━━━━━━━━━━━━━\u001b[0m \u001b[32m725.0/725.0 kB\u001b[0m \u001b[31m10.6 MB/s\u001b[0m eta \u001b[36m0:00:00\u001b[0m\n",
            "\u001b[?25hDownloading h5py-3.10.0-cp312-cp312-manylinux_2_17_x86_64.manylinux2014_x86_64.whl (4.7 MB)\n",
            "\u001b[2K   \u001b[90m━━━━━━━━━━━━━━━━━━━━━━━━━━━━━━━━━━━━━━━━\u001b[0m \u001b[32m4.7/4.7 MB\u001b[0m \u001b[31m18.7 MB/s\u001b[0m eta \u001b[36m0:00:00\u001b[0m\n",
            "\u001b[?25hDownloading pyvista-0.43.3-py3-none-any.whl (1.9 MB)\n",
            "\u001b[2K   \u001b[90m━━━━━━━━━━━━━━━━━━━━━━━━━━━━━━━━━━━━━━━━\u001b[0m \u001b[32m1.9/1.9 MB\u001b[0m \u001b[31m6.6 MB/s\u001b[0m eta \u001b[36m0:00:00\u001b[0m\n",
            "\u001b[?25hDownloading vtk-9.3.0-cp312-cp312-manylinux_2_17_x86_64.manylinux2014_x86_64.whl (92.0 MB)\n",
            "\u001b[2K   \u001b[90m━━━━━━━━━━━━━━━━━━━━━━━━━━━━━━━━━━━━━━━━\u001b[0m \u001b[32m92.0/92.0 MB\u001b[0m \u001b[31m5.3 MB/s\u001b[0m eta \u001b[36m0:00:00\u001b[0m\n",
            "\u001b[?25hDownloading python_magic-0.4.27-py2.py3-none-any.whl (13 kB)\n",
            "Downloading pydantic_core-2.16.2-cp312-cp312-manylinux_2_17_x86_64.manylinux2014_x86_64.whl (2.2 MB)\n",
            "\u001b[2K   \u001b[90m━━━━━━━━━━━━━━━━━━━━━━━━━━━━━━━━━━━━━━━━\u001b[0m \u001b[32m2.2/2.2 MB\u001b[0m \u001b[31m4.8 MB/s\u001b[0m eta \u001b[36m0:00:00\u001b[0m\n",
            "\u001b[?25hDownloading annotated_types-0.6.0-py3-none-any.whl (12 kB)\n",
            "Downloading click-8.1.7-py3-none-any.whl (97 kB)\n",
            "\u001b[2K   \u001b[90m━━━━━━━━━━━━━━━━━━━━━━━━━━━━━━━━━━━━━━━━\u001b[0m \u001b[32m97.9/97.9 kB\u001b[0m \u001b[31m7.6 MB/s\u001b[0m eta \u001b[36m0:00:00\u001b[0m\n",
            "\u001b[?25hDownloading matplotlib-3.8.3-cp312-cp312-manylinux_2_17_x86_64.manylinux2014_x86_64.whl (11.6 MB)\n",
            "\u001b[2K   \u001b[90m━━━━━━━━━━━━━━━━━━━━━━━━━━━━━━━━━━━━━━━━\u001b[0m \u001b[32m11.6/11.6 MB\u001b[0m \u001b[31m28.2 MB/s\u001b[0m eta \u001b[36m0:00:00\u001b[0m\n",
            "\u001b[?25hDownloading numpy-1.26.4-cp312-cp312-manylinux_2_17_x86_64.manylinux2014_x86_64.whl (18.0 MB)\n",
            "\u001b[2K   \u001b[90m━━━━━━━━━━━━━━━━━━━━━━━━━━━━━━━━━━━━━━━━\u001b[0m \u001b[32m18.0/18.0 MB\u001b[0m \u001b[31m16.2 MB/s\u001b[0m eta \u001b[36m0:00:00\u001b[0m\n",
            "\u001b[?25hDownloading pillow-10.2.0-cp312-cp312-manylinux_2_28_x86_64.whl (4.5 MB)\n",
            "\u001b[2K   \u001b[90m━━━━━━━━━━━━━━━━━━━━━━━━━━━━━━━━━━━━━━━━\u001b[0m \u001b[32m4.5/4.5 MB\u001b[0m \u001b[31m15.7 MB/s\u001b[0m eta \u001b[36m0:00:00\u001b[0m\n",
            "\u001b[?25hDownloading requests-2.31.0-py3-none-any.whl (62 kB)\n",
            "\u001b[2K   \u001b[90m━━━━━━━━━━━━━━━━━━━━━━━━━━━━━━━━━━━━━━━━\u001b[0m \u001b[32m62.6/62.6 kB\u001b[0m \u001b[31m4.8 MB/s\u001b[0m eta \u001b[36m0:00:00\u001b[0m\n",
            "\u001b[?25hDownloading ruamel.yaml-0.18.6-py3-none-any.whl (117 kB)\n",
            "\u001b[2K   \u001b[90m━━━━━━━━━━━━━━━━━━━━━━━━━━━━━━━━━━━━━━━━\u001b[0m \u001b[32m117.8/117.8 kB\u001b[0m \u001b[31m9.8 MB/s\u001b[0m eta \u001b[36m0:00:00\u001b[0m\n",
            "\u001b[?25hDownloading scooby-0.9.2-py3-none-any.whl (18 kB)\n",
            "Downloading typing_extensions-4.9.0-py3-none-any.whl (32 kB)\n",
            "Downloading aiodns-3.1.1-py3-none-any.whl (5.4 kB)\n",
            "Downloading aiohttp-3.9.3-cp312-cp312-manylinux_2_17_x86_64.manylinux2014_x86_64.whl (1.3 MB)\n",
            "\u001b[2K   \u001b[90m━━━━━━━━━━━━━━━━━━━━━━━━━━━━━━━━━━━━━━━━\u001b[0m \u001b[32m1.3/1.3 MB\u001b[0m \u001b[31m5.4 MB/s\u001b[0m eta \u001b[36m0:00:00\u001b[0m\n",
            "\u001b[?25hDownloading anytree-2.12.1-py3-none-any.whl (44 kB)\n",
            "\u001b[2K   \u001b[90m━━━━━━━━━━━━━━━━━━━━━━━━━━━━━━━━━━━━━━━━\u001b[0m \u001b[32m44.9/44.9 kB\u001b[0m \u001b[31m3.0 MB/s\u001b[0m eta \u001b[36m0:00:00\u001b[0m\n",
            "\u001b[?25hDownloading dvuploader-0.2.1-py3-none-any.whl (19 kB)\n",
            "Downloading rich-13.7.0-py3-none-any.whl (240 kB)\n",
            "\u001b[2K   \u001b[90m━━━━━━━━━━━━━━━━━━━━━━━━━━━━━━━━━━━━━━━━\u001b[0m \u001b[32m240.6/240.6 kB\u001b[0m \u001b[31m17.1 MB/s\u001b[0m eta \u001b[36m0:00:00\u001b[0m\n",
            "\u001b[?25hDownloading typer-0.9.0-py3-none-any.whl (45 kB)\n",
            "\u001b[2K   \u001b[90m━━━━━━━━━━━━━━━━━━━━━━━━━━━━━━━━━━━━━━━━\u001b[0m \u001b[32m45.9/45.9 kB\u001b[0m \u001b[31m3.2 MB/s\u001b[0m eta \u001b[36m0:00:00\u001b[0m\n",
            "\u001b[?25hDownloading email_validator-2.1.0.post1-py3-none-any.whl (32 kB)\n",
            "Downloading Jinja2-3.1.3-py3-none-any.whl (133 kB)\n",
            "\u001b[2K   \u001b[90m━━━━━━━━━━━━━━━━━━━━━━━━━━━━━━━━━━━━━━━━\u001b[0m \u001b[32m133.2/133.2 kB\u001b[0m \u001b[31m10.1 MB/s\u001b[0m eta \u001b[36m0:00:00\u001b[0m\n",
            "\u001b[?25hDownloading nob-0.8.2-py2.py3-none-any.whl (12 kB)\n",
            "Downloading pooch-1.8.1-py3-none-any.whl (62 kB)\n",
            "\u001b[2K   \u001b[90m━━━━━━━━━━━━━━━━━━━━━━━━━━━━━━━━━━━━━━━━\u001b[0m \u001b[32m63.0/63.0 kB\u001b[0m \u001b[31m5.1 MB/s\u001b[0m eta \u001b[36m0:00:00\u001b[0m\n",
            "\u001b[?25hDownloading pyaml-23.12.0-py3-none-any.whl (23 kB)\n",
            "Downloading xmltodict-0.13.0-py2.py3-none-any.whl (10.0 kB)\n",
            "Downloading aiofiles-23.2.1-py3-none-any.whl (15 kB)\n",
            "Downloading aiosignal-1.3.1-py3-none-any.whl (7.6 kB)\n",
            "Downloading attrs-23.2.0-py3-none-any.whl (60 kB)\n",
            "\u001b[2K   \u001b[90m━━━━━━━━━━━━━━━━━━━━━━━━━━━━━━━━━━━━━━━━\u001b[0m \u001b[32m60.8/60.8 kB\u001b[0m \u001b[31m4.4 MB/s\u001b[0m eta \u001b[36m0:00:00\u001b[0m\n",
            "\u001b[?25hDownloading certifi-2024.2.2-py3-none-any.whl (163 kB)\n",
            "\u001b[2K   \u001b[90m━━━━━━━━━━━━━━━━━━━━━━━━━━━━━━━━━━━━━━━━\u001b[0m \u001b[32m163.8/163.8 kB\u001b[0m \u001b[31m12.3 MB/s\u001b[0m eta \u001b[36m0:00:00\u001b[0m\n",
            "\u001b[?25hDownloading charset_normalizer-3.3.2-cp312-cp312-manylinux_2_17_x86_64.manylinux2014_x86_64.whl (141 kB)\n",
            "\u001b[2K   \u001b[90m━━━━━━━━━━━━━━━━━━━━━━━━━━━━━━━━━━━━━━━━\u001b[0m \u001b[32m141.9/141.9 kB\u001b[0m \u001b[31m8.7 MB/s\u001b[0m eta \u001b[36m0:00:00\u001b[0m\n",
            "\u001b[?25hDownloading contourpy-1.2.0-cp312-cp312-manylinux_2_17_x86_64.manylinux2014_x86_64.whl (303 kB)\n",
            "\u001b[2K   \u001b[90m━━━━━━━━━━━━━━━━━━━━━━━━━━━━━━━━━━━━━━━━\u001b[0m \u001b[32m303.9/303.9 kB\u001b[0m \u001b[31m22.1 MB/s\u001b[0m eta \u001b[36m0:00:00\u001b[0m\n",
            "\u001b[?25hDownloading cycler-0.12.1-py3-none-any.whl (8.3 kB)\n",
            "Downloading dnspython-2.6.1-py3-none-any.whl (307 kB)\n",
            "\u001b[2K   \u001b[90m━━━━━━━━━━━━━━━━━━━━━━━━━━━━━━━━━━━━━━━━\u001b[0m \u001b[32m307.7/307.7 kB\u001b[0m \u001b[31m24.0 MB/s\u001b[0m eta \u001b[36m0:00:00\u001b[0m\n",
            "\u001b[?25hDownloading fonttools-4.49.0-cp312-cp312-manylinux_2_5_x86_64.manylinux1_x86_64.manylinux_2_17_x86_64.manylinux2014_x86_64.whl (4.9 MB)\n",
            "\u001b[2K   \u001b[90m━━━━━━━━━━━━━━━━━━━━━━━━━━━━━━━━━━━━━━━━\u001b[0m \u001b[32m4.9/4.9 MB\u001b[0m \u001b[31m74.1 MB/s\u001b[0m eta \u001b[36m0:00:00\u001b[0m\n",
            "\u001b[?25hDownloading frozenlist-1.4.1-cp312-cp312-manylinux_2_5_x86_64.manylinux1_x86_64.manylinux_2_17_x86_64.manylinux2014_x86_64.whl (281 kB)\n",
            "\u001b[2K   \u001b[90m━━━━━━━━━━━━━━━━━━━━━━━━━━━━━━━━━━━━━━━━\u001b[0m \u001b[32m281.5/281.5 kB\u001b[0m \u001b[31m19.4 MB/s\u001b[0m eta \u001b[36m0:00:00\u001b[0m\n",
            "\u001b[?25hDownloading idna-3.6-py3-none-any.whl (61 kB)\n",
            "\u001b[2K   \u001b[90m━━━━━━━━━━━━━━━━━━━━━━━━━━━━━━━━━━━━━━━━\u001b[0m \u001b[32m61.6/61.6 kB\u001b[0m \u001b[31m4.6 MB/s\u001b[0m eta \u001b[36m0:00:00\u001b[0m\n",
            "\u001b[?25hDownloading ipywidgets-8.1.2-py3-none-any.whl (139 kB)\n",
            "\u001b[2K   \u001b[90m━━━━━━━━━━━━━━━━━━━━━━━━━━━━━━━━━━━━━━━━\u001b[0m \u001b[32m139.4/139.4 kB\u001b[0m \u001b[31m11.2 MB/s\u001b[0m eta \u001b[36m0:00:00\u001b[0m\n",
            "\u001b[?25hDownloading kiwisolver-1.4.5-cp312-cp312-manylinux_2_17_x86_64.manylinux2014_x86_64.whl (1.5 MB)\n",
            "\u001b[2K   \u001b[90m━━━━━━━━━━━━━━━━━━━━━━━━━━━━━━━━━━━━━━━━\u001b[0m \u001b[32m1.5/1.5 MB\u001b[0m \u001b[31m4.3 MB/s\u001b[0m eta \u001b[36m0:00:00\u001b[0m\n",
            "\u001b[?25hDownloading markdown_it_py-3.0.0-py3-none-any.whl (87 kB)\n",
            "\u001b[2K   \u001b[90m━━━━━━━━━━━━━━━━━━━━━━━━━━━━━━━━━━━━━━━━\u001b[0m \u001b[32m87.5/87.5 kB\u001b[0m \u001b[31m6.2 MB/s\u001b[0m eta \u001b[36m0:00:00\u001b[0m\n",
            "\u001b[?25hDownloading MarkupSafe-2.1.5-cp312-cp312-manylinux_2_17_x86_64.manylinux2014_x86_64.whl (28 kB)\n",
            "Downloading multidict-6.0.5-cp312-cp312-manylinux_2_17_x86_64.manylinux2014_x86_64.whl (130 kB)\n",
            "\u001b[2K   \u001b[90m━━━━━━━━━━━━━━━━━━━━━━━━━━━━━━━━━━━━━━━━\u001b[0m \u001b[32m130.8/130.8 kB\u001b[0m \u001b[31m8.6 MB/s\u001b[0m eta \u001b[36m0:00:00\u001b[0m\n",
            "\u001b[?25hDownloading pycares-4.4.0-cp312-cp312-manylinux_2_17_x86_64.manylinux2014_x86_64.whl (290 kB)\n",
            "\u001b[2K   \u001b[90m━━━━━━━━━━━━━━━━━━━━━━━━━━━━━━━━━━━━━━━━\u001b[0m \u001b[32m290.1/290.1 kB\u001b[0m \u001b[31m19.2 MB/s\u001b[0m eta \u001b[36m0:00:00\u001b[0m\n",
            "\u001b[?25hDownloading pyrsistent-0.20.0-cp312-cp312-manylinux_2_17_x86_64.manylinux2014_x86_64.whl (122 kB)\n",
            "\u001b[2K   \u001b[90m━━━━━━━━━━━━━━━━━━━━━━━━━━━━━━━━━━━━━━━━\u001b[0m \u001b[32m122.3/122.3 kB\u001b[0m \u001b[31m8.8 MB/s\u001b[0m eta \u001b[36m0:00:00\u001b[0m\n",
            "\u001b[?25hDownloading ruamel.yaml.clib-0.2.8-cp312-cp312-manylinux_2_17_x86_64.manylinux2014_x86_64.manylinux_2_28_x86_64.whl (734 kB)\n",
            "\u001b[2K   \u001b[90m━━━━━━━━━━━━━━━━━━━━━━━━━━━━━━━━━━━━━━━━\u001b[0m \u001b[32m734.6/734.6 kB\u001b[0m \u001b[31m36.6 MB/s\u001b[0m eta \u001b[36m0:00:00\u001b[0m\n",
            "\u001b[?25hDownloading urllib3-2.2.1-py3-none-any.whl (121 kB)\n",
            "\u001b[2K   \u001b[90m━━━━━━━━━━━━━━━━━━━━━━━━━━━━━━━━━━━━━━━━\u001b[0m \u001b[32m121.1/121.1 kB\u001b[0m \u001b[31m8.2 MB/s\u001b[0m eta \u001b[36m0:00:00\u001b[0m\n",
            "\u001b[?25hDownloading yarl-1.9.4-cp312-cp312-manylinux_2_17_x86_64.manylinux2014_x86_64.whl (322 kB)\n",
            "\u001b[2K   \u001b[90m━━━━━━━━━━━━━━━━━━━━━━━━━━━━━━━━━━━━━━━━\u001b[0m \u001b[32m322.4/322.4 kB\u001b[0m \u001b[31m18.3 MB/s\u001b[0m eta \u001b[36m0:00:00\u001b[0m\n",
            "\u001b[?25hDownloading cffi-1.16.0-cp312-cp312-manylinux_2_17_x86_64.manylinux2014_x86_64.whl (477 kB)\n",
            "\u001b[2K   \u001b[90m━━━━━━━━━━━━━━━━━━━━━━━━━━━━━━━━━━━━━━━━\u001b[0m \u001b[32m477.6/477.6 kB\u001b[0m \u001b[31m25.8 MB/s\u001b[0m eta \u001b[36m0:00:00\u001b[0m\n",
            "\u001b[?25hDownloading jupyterlab_widgets-3.0.10-py3-none-any.whl (215 kB)\n",
            "\u001b[2K   \u001b[90m━━━━━━━━━━━━━━━━━━━━━━━━━━━━━━━━━━━━━━━━\u001b[0m \u001b[32m215.0/215.0 kB\u001b[0m \u001b[31m12.7 MB/s\u001b[0m eta \u001b[36m0:00:00\u001b[0m\n",
            "\u001b[?25hDownloading mdurl-0.1.2-py3-none-any.whl (10.0 kB)\n",
            "Downloading widgetsnbextension-4.0.10-py3-none-any.whl (2.3 MB)\n",
            "\u001b[2K   \u001b[90m━━━━━━━━━━━━━━━━━━━━━━━━━━━━━━━━━━━━━━━━\u001b[0m \u001b[32m2.3/2.3 MB\u001b[0m \u001b[31m52.0 MB/s\u001b[0m eta \u001b[36m0:00:00\u001b[0m\n",
            "\u001b[?25hBuilding wheels for collected packages: easyDataverse, docopt\n",
            "  Building wheel for easyDataverse (setup.py) ... \u001b[?25l\u001b[?25hdone\n",
            "  Created wheel for easyDataverse: filename=easyDataverse-0.4.0-py3-none-any.whl size=29469 sha256=7ad4a2380ffd04b77d7d60482709df17b81b2bf9c3373456903c451b82c29605\n",
            "  Stored in directory: /tmp/pip-ephem-wheel-cache-w97js7pc/wheels/10/76/2e/08e518cab0b2aad5ee69d1d6e67b58486eeb42f689cd6d44a3\n",
            "  Building wheel for docopt (setup.py) ... \u001b[?25l\u001b[?25hdone\n",
            "  Created wheel for docopt: filename=docopt-0.6.2-py2.py3-none-any.whl size=13706 sha256=bd1cda6ffd0d47dfb3c751b09337d435c0e37b8bcd94ca670f5208239aff2d0c\n",
            "  Stored in directory: /root/.cache/pip/wheels/1a/bf/a1/4cee4f7678c68c5875ca89eaccf460593539805c3906722228\n",
            "Successfully built easyDataverse docopt\n",
            "Installing collected packages: python-forge, nob, dotted-dict, docopt, xmltodict, widgetsnbextension, urllib3, typing-extensions, scooby, ruamel.yaml.clib, PyYAML, python-magic, pyrsistent, pycparser, pillow, numpy, multidict, mdurl, MarkupSafe, kiwisolver, jupyterlab-widgets, idna, frozenlist, fonttools, dnspython, cycler, click, charset-normalizer, certifi, attrs, anytree, annotated-types, aiofiles, yarl, typer, ruamel.yaml, requests, pydantic-core, pyaml, markdown-it-py, jsonschema, jinja2, h5py, email_validator, contourpy, cffi, aiosignal, rich, pykwalify, pydataverse, pydantic, pycares, pooch, matplotlib, aiohttp, vtk, ipywidgets, cffconvert, aiodns, pyvista, dvuploader, easyDataverse\n",
            "Successfully installed MarkupSafe-2.1.5 PyYAML-6.0.1 aiodns-3.1.1 aiofiles-23.2.1 aiohttp-3.9.3 aiosignal-1.3.1 annotated-types-0.6.0 anytree-2.12.1 attrs-23.2.0 certifi-2024.2.2 cffconvert-2.0.0 cffi-1.16.0 charset-normalizer-3.3.2 click-8.1.7 contourpy-1.2.0 cycler-0.12.1 dnspython-2.6.1 docopt-0.6.2 dotted-dict-1.1.3 dvuploader-0.2.1 easyDataverse-0.4.0 email_validator-2.1.0.post1 fonttools-4.49.0 frozenlist-1.4.1 h5py-3.10.0 idna-3.6 ipywidgets-8.1.2 jinja2-3.1.3 jsonschema-3.2.0 jupyterlab-widgets-3.0.10 kiwisolver-1.4.5 markdown-it-py-3.0.0 matplotlib-3.8.3 mdurl-0.1.2 multidict-6.0.5 nob-0.8.2 numpy-1.26.4 pillow-10.2.0 pooch-1.8.1 pyaml-23.12.0 pycares-4.4.0 pycparser-2.21 pydantic-2.6.1 pydantic-core-2.16.2 pydataverse-0.3.1 pykwalify-1.8.0 pyrsistent-0.20.0 python-forge-18.6.0 python-magic-0.4.27 pyvista-0.43.3 requests-2.31.0 rich-13.7.0 ruamel.yaml-0.18.6 ruamel.yaml.clib-0.2.8 scooby-0.9.2 typer-0.9.0 typing-extensions-4.9.0 urllib3-2.2.1 vtk-9.3.0 widgetsnbextension-4.0.10 xmltodict-0.13.0 yarl-1.9.4\n",
            "\u001b[33mWARNING: Running pip as the 'root' user can result in broken permissions and conflicting behaviour with the system package manager. It is recommended to use a virtual environment instead: https://pip.pypa.io/warnings/venv\u001b[0m\u001b[33m\n",
            "\u001b[0m"
          ]
        }
      ],
      "source": [
        "# Install dependencies from requirements.txt\n",
        "!python3 -m pip install -r requirements.txt"
      ]
    },
    {
      "cell_type": "markdown",
      "metadata": {
        "id": "vi5u8XZL6hMC"
      },
      "source": [
        "## Harvester-Curator CLI help"
      ]
    },
    {
      "cell_type": "code",
      "execution_count": 29,
      "metadata": {
        "colab": {
          "base_uri": "https://localhost:8080/"
        },
        "id": "lAk0q9My6geD",
        "outputId": "6c67c623-6e49-4543-ed6c-a40e402dcb8c"
      },
      "outputs": [
        {
          "name": "stdout",
          "output_type": "stream",
          "text": [
            "\u001b[1m                                                                                                    \u001b[0m\n",
            "\u001b[1m \u001b[0m\u001b[1;33mUsage: \u001b[0m\u001b[1mcli.py [OPTIONS] COMMAND [ARGS]...\u001b[0m\u001b[1m                                                         \u001b[0m\u001b[1m \u001b[0m\n",
            "\u001b[1m                                                                                                    \u001b[0m\n",
            "\u001b[2m╭─\u001b[0m\u001b[2m Options \u001b[0m\u001b[2m───────────────────────────────────────────────────────────────────────────────────────\u001b[0m\u001b[2m─╮\u001b[0m\n",
            "\u001b[2m│\u001b[0m \u001b[1;36m-\u001b[0m\u001b[1;36m-install\u001b[0m\u001b[1;36m-completion\u001b[0m        \u001b[1;2;33m[\u001b[0m\u001b[1;33mbash\u001b[0m\u001b[1;2;33m|\u001b[0m\u001b[1;33mzsh\u001b[0m\u001b[1;2;33m|\u001b[0m\u001b[1;33mfish\u001b[0m\u001b[1;2;33m|\u001b[0m\u001b[1;33mpowershell\u001b[0m\u001b[1;2;33m|\u001b[0m\u001b[1;33mpwsh\u001b[0m\u001b[1;2;33m]\u001b[0m  Install completion for the          \u001b[2m│\u001b[0m\n",
            "\u001b[2m│\u001b[0m                                                              specified shell.                    \u001b[2m│\u001b[0m\n",
            "\u001b[2m│\u001b[0m                                                              \u001b[2m[default: None]                    \u001b[0m \u001b[2m│\u001b[0m\n",
            "\u001b[2m│\u001b[0m \u001b[1;36m-\u001b[0m\u001b[1;36m-show\u001b[0m\u001b[1;36m-completion\u001b[0m           \u001b[1;2;33m[\u001b[0m\u001b[1;33mbash\u001b[0m\u001b[1;2;33m|\u001b[0m\u001b[1;33mzsh\u001b[0m\u001b[1;2;33m|\u001b[0m\u001b[1;33mfish\u001b[0m\u001b[1;2;33m|\u001b[0m\u001b[1;33mpowershell\u001b[0m\u001b[1;2;33m|\u001b[0m\u001b[1;33mpwsh\u001b[0m\u001b[1;2;33m]\u001b[0m  Show completion for the specified   \u001b[2m│\u001b[0m\n",
            "\u001b[2m│\u001b[0m                                                              shell, to copy it or customize the  \u001b[2m│\u001b[0m\n",
            "\u001b[2m│\u001b[0m                                                              installation.                       \u001b[2m│\u001b[0m\n",
            "\u001b[2m│\u001b[0m                                                              \u001b[2m[default: None]                    \u001b[0m \u001b[2m│\u001b[0m\n",
            "\u001b[2m│\u001b[0m \u001b[1;36m-\u001b[0m\u001b[1;36m-help\u001b[0m                      \u001b[1;33m                               \u001b[0m  Show this message and exit.         \u001b[2m│\u001b[0m\n",
            "\u001b[2m╰──────────────────────────────────────────────────────────────────────────────────────────────────╯\u001b[0m\n",
            "\u001b[2m╭─\u001b[0m\u001b[2m Commands \u001b[0m\u001b[2m──────────────────────────────────────────────────────────────────────────────────────\u001b[0m\u001b[2m─╮\u001b[0m\n",
            "\u001b[2m│\u001b[0m \u001b[1;36mcurate \u001b[0m\u001b[1;36m \u001b[0m Compares harvested metadata against defined schemas from API endpoints, extracts        \u001b[2m│\u001b[0m\n",
            "\u001b[2m│\u001b[0m \u001b[1;36m        \u001b[0m matching metadata fields and their values, and transforms these fields to ensure their  \u001b[2m│\u001b[0m\n",
            "\u001b[2m│\u001b[0m \u001b[1;36m        \u001b[0m incoporability into the metadata blocks  defined by the schemas.                        \u001b[2m│\u001b[0m\n",
            "\u001b[2m│\u001b[0m \u001b[1;36mharvest\u001b[0m\u001b[1;36m \u001b[0m Harvest metadata from files within a specified directory and save the harvested         \u001b[2m│\u001b[0m\n",
            "\u001b[2m│\u001b[0m \u001b[1;36m        \u001b[0m metadata to a JSON file.                                                                \u001b[2m│\u001b[0m\n",
            "\u001b[2m│\u001b[0m \u001b[1;36mupload \u001b[0m\u001b[1;36m \u001b[0m Uploads a dataset with curated metadata to a given Dataverse installation               \u001b[2m│\u001b[0m\n",
            "\u001b[2m╰──────────────────────────────────────────────────────────────────────────────────────────────────╯\u001b[0m\n",
            "\n"
          ]
        }
      ],
      "source": [
        "!python cli.py --help"
      ]
    },
    {
      "cell_type": "markdown",
      "metadata": {
        "id": "NYCrpJfplzOU"
      },
      "source": [
        "## Test harvest command"
      ]
    },
    {
      "cell_type": "code",
      "execution_count": 30,
      "metadata": {
        "colab": {
          "base_uri": "https://localhost:8080/"
        },
        "id": "TanfHY_aQTsr",
        "outputId": "00bb1dc5-f043-4416-effa-536ecdd05824"
      },
      "outputs": [
        {
          "name": "stdout",
          "output_type": "stream",
          "text": [
            "\u001b[1m                                                                                                    \u001b[0m\n",
            "\u001b[1m \u001b[0m\u001b[1;33mUsage: \u001b[0m\u001b[1mcli.py harvest [OPTIONS]\u001b[0m\u001b[1m                                                                   \u001b[0m\u001b[1m \u001b[0m\n",
            "\u001b[1m                                                                                                    \u001b[0m\n",
            " Harvest metadata from files within a specified directory and save the harvested metadata to a JSON \n",
            " file.                                                                                              \n",
            " \u001b[2mArgs:     dir_path (str): Path of the base directory from which metadata is harvested.     \u001b[0m        \n",
            " \u001b[2moutput_filepath (str): Path to the JSON file to save harvested metadata.     verbose (bool): An \u001b[0m   \n",
            " \u001b[2mboolean flag. If set to True, the function will provide messages about any unparsed               \u001b[0m \n",
            " \u001b[2mfiles and file types encountered.\u001b[0m                                                                  \n",
            "                                                                                                    \n",
            "\u001b[2m╭─\u001b[0m\u001b[2m Options \u001b[0m\u001b[2m───────────────────────────────────────────────────────────────────────────────────────\u001b[0m\u001b[2m─╮\u001b[0m\n",
            "\u001b[2m│\u001b[0m \u001b[1;36m-\u001b[0m\u001b[1;36m-dir_path\u001b[0m         \u001b[1;32m-d\u001b[0m      \u001b[1;33mTEXT\u001b[0m  Path of the base directory from which metadata is harvested     \u001b[2m│\u001b[0m\n",
            "\u001b[2m│\u001b[0m                                  \u001b[2m[default: /content/Harvester-Curator/example/use-case]     \u001b[0m     \u001b[2m│\u001b[0m\n",
            "\u001b[2m│\u001b[0m \u001b[1;36m-\u001b[0m\u001b[1;36m-output_filepath\u001b[0m  \u001b[1;32m-o\u001b[0m      \u001b[1;33mTEXT\u001b[0m  Path to the JSON file to save harvested metadata                \u001b[2m│\u001b[0m\n",
            "\u001b[2m│\u001b[0m                                  \u001b[2m[default:                                                      \u001b[0m \u001b[2m│\u001b[0m\n",
            "\u001b[2m│\u001b[0m                                  \u001b[2m/content/Harvester-Curator/output/harvester_output.json]       \u001b[0m \u001b[2m│\u001b[0m\n",
            "\u001b[2m│\u001b[0m \u001b[1;36m-\u001b[0m\u001b[1;36m-verbose\u001b[0m          \u001b[1;32m-v\u001b[0m      \u001b[1;33m    \u001b[0m  An boolean flag. If set to True, the function will provide      \u001b[2m│\u001b[0m\n",
            "\u001b[2m│\u001b[0m                                  messages aboutany unparsed files and file types encountered     \u001b[2m│\u001b[0m\n",
            "\u001b[2m│\u001b[0m                                  \u001b[2m[default: True]                                                \u001b[0m \u001b[2m│\u001b[0m\n",
            "\u001b[2m│\u001b[0m \u001b[1;36m-\u001b[0m\u001b[1;36m-help\u001b[0m                     \u001b[1;33m    \u001b[0m  Show this message and exit.                                     \u001b[2m│\u001b[0m\n",
            "\u001b[2m╰──────────────────────────────────────────────────────────────────────────────────────────────────╯\u001b[0m\n",
            "\n"
          ]
        }
      ],
      "source": [
        "# harvest command help\n",
        "!python cli.py harvest --help"
      ]
    },
    {
      "cell_type": "code",
      "execution_count": 31,
      "metadata": {
        "colab": {
          "base_uri": "https://localhost:8080/"
        },
        "id": "jxSgVOA5RlzS",
        "outputId": "62f3e4e8-ec30-4fff-80fa-4fcd9d279b31"
      },
      "outputs": [
        {
          "name": "stdout",
          "output_type": "stream",
          "text": [
            "\n",
            "Start havesting metadata from files under the given base directory /content/Harvester-Curator/example/use-case ...\n",
            "\n",
            "***Please note that currently there are no parsers to parse py and txt files found under the given path.\n",
            "\n",
            "List of unparsed files: ['/content/Harvester-Curator/example/use-case/install.py', '/content/Harvester-Curator/example/use-case/requirements.txt']\n",
            "\n",
            "Harvested metadata successfully saved to /content/Harvester-Curator/output/harvester_output.json\n",
            "\n"
          ]
        }
      ],
      "source": [
        "# Test harvest command with default arguments\n",
        "!python cli.py harvest"
      ]
    },
    {
      "cell_type": "code",
      "execution_count": 32,
      "metadata": {
        "colab": {
          "base_uri": "https://localhost:8080/"
        },
        "id": "_Sfz8zOcTIPL",
        "outputId": "8ea092d4-a70f-45d6-d8a6-0351b882ff89"
      },
      "outputs": [
        {
          "name": "stdout",
          "output_type": "stream",
          "text": [
            "{\n",
            "  \"supergroup_name\": \"all parsed file groups\",\n",
            "  \"file_group_names\": {\n",
            "    \"bib files\": [\n",
            "      \"bib\"\n",
            "    ],\n",
            "    \"json files\": [\n",
            "      \"json\"\n",
            "    ]\n",
            "  },\n",
            "  \"groups\": [\n",
            "    {\n",
            "      \"file_group_name\": \"bib files\",\n",
            "      \"files\": [\n",
            "        {\n",
            "          \"file_name\": \"ned.bib\",\n",
            "          \"path\": \"/content/Harvester-Curator/example/use-case/ned.bib\",\n",
            "          \"metadata\": {\n",
            "            \"title\": \"Data-Driven Scale Bridging Parametrizations with Metrics: Dispersive Transport\",\n",
            "            \"author\": [\n",
            "              {\n",
            "                \"name\": \"Edward Coltman\"\n",
            "              },\n",
            "              {\n",
            "                \"name\": \"Martin Schneider\"\n",
            "              },\n",
            "              {\n",
            "                \"name\": \"Rainer Helmig\"\n",
            "              }\n",
            "            ],\n",
            "            \"month\": \"November\",\n",
            "            \"year\": \"2023\",\n",
            "            \"doi\": \"10.48550/arXiv.2311.13975\",\n",
            "            \"publisher\": \"arXiv\",\n",
            "            \"primaryClass\": \"math.NA\",\n",
            "            \"url\": \"https://arxiv.org/abs/2311.13975\"\n",
            "          }\n",
            "        }\n",
            "      ]\n",
            "    },\n",
            "    {\n",
            "      \"file_group_name\": \"json files\",\n",
            "      \"files\": [\n",
            "        {\n",
            "          \"file_name\": \"codemeta.json\",\n",
            "          \"path\": \"/content/Harvester-Curator/example/use-case/codemeta.json\",\n",
            "          \"metadata\": {\n",
            "            \"name\": \"MyAwesomeProject\",\n",
            "            \"version\": \"1.0.0\",\n",
            "            \"description\": \"Project to automate the harvesting and curating metadata from user's code and/or data repository\",\n",
            "            \"keywords\": [\n",
            "              \"automation\",\n",
            "              \"metadata\"\n",
            "            ],\n",
            "            \"license\": \"MIT\",\n",
            "            \"contributors\": [\n",
            "              {\n",
            "                \"name\": \"Joe Doe1\",\n",
            "                \"affiliation\": \"University of Example\",\n",
            "                \"email\": \"jd1@example.com\"\n",
            "              },\n",
            "              {\n",
            "                \"name\": \"Joe Doe2\",\n",
            "                \"affiliation\": \"University of Example\",\n",
            "                \"email\": \"jd2@example.com\"\n",
            "              }\n",
            "            ],\n",
            "            \"dateCreated\": \"2023-04-21\",\n",
            "            \"codeRepository\": \"https://github.com/SimTech-Research-Data-Management/Harvester-Curator\",\n",
            "            \"programmingLanguage\": {\n",
            "              \"name\": \"Python\",\n",
            "              \"url\": \"https://www.python.org\"\n",
            "            },\n",
            "            \"developmentStatus\": \"Active\",\n",
            "            \"softwareRequirementsItem\": [\n",
            "              {\n",
            "                \"softwareRequirements\": \"cffconvert 2.0.0\"\n",
            "              },\n",
            "              {\n",
            "                \"softwareRequirements\": \"pydantic 2.6.1\"\n",
            "              },\n",
            "              {\n",
            "                \"softwareRequirements\": \"PyYAML 6.0.1\"\n",
            "              },\n",
            "              {\n",
            "                \"softwareRequirements\": \"h5py 3.10.0\"\n",
            "              },\n",
            "              {\n",
            "                \"softwareRequirements\": \"pyvista 0.43.3\"\n",
            "              },\n",
            "              {\n",
            "                \"softwareRequirements\": \"vtk 9.3.0\"\n",
            "              },\n",
            "              {\n",
            "                \"softwareRequirements\": \"python-magic 0.4.27\"\n",
            "              },\n",
            "              {\n",
            "                \"softwareRequirements\": \"easyDataverse\"\n",
            "              }\n",
            "            ]\n",
            "          }\n",
            "        }\n",
            "      ]\n",
            "    }\n",
            "  ]\n",
            "}"
          ]
        }
      ],
      "source": [
        "# Read harvested metadata\n",
        "!cat output/harvester_output.json"
      ]
    },
    {
      "cell_type": "markdown",
      "metadata": {
        "id": "sTPTYXtol4HG"
      },
      "source": [
        "## Test curate command"
      ]
    },
    {
      "cell_type": "code",
      "execution_count": 33,
      "metadata": {
        "colab": {
          "base_uri": "https://localhost:8080/"
        },
        "id": "3CbySjJCQjfi",
        "outputId": "5d123814-b360-407c-c8e6-14f0f5968019"
      },
      "outputs": [
        {
          "name": "stdout",
          "output_type": "stream",
          "text": [
            "\u001b[1m                                                                                                    \u001b[0m\n",
            "\u001b[1m \u001b[0m\u001b[1;33mUsage: \u001b[0m\u001b[1mcli.py curate [OPTIONS]\u001b[0m\u001b[1m                                                                    \u001b[0m\u001b[1m \u001b[0m\n",
            "\u001b[1m                                                                                                    \u001b[0m\n",
            " Compares harvested metadata against defined schemas from API endpoints, extracts matching metadata \n",
            " fields and their values, and transforms these fields to ensure their incoporability into the       \n",
            " metadata blocks  defined by the schemas.                                                           \n",
            " \u001b[2mThe function aligns the extracted metadata from various sources with the expected structure and \u001b[0m   \n",
            " \u001b[2mdata types  defined by the API schemas. This alignment facilitates accurate and efficient \u001b[0m         \n",
            " \u001b[2mintegration of metadata  into metadata blocks defined by schemaes from API endpoints, enhancing \u001b[0m   \n",
            " \u001b[2mdata consistency and interoperability.\u001b[0m                                                             \n",
            " \u001b[2mArgs:     harvested_metadata_filepath (str): The base directory from which metadata is harvested. \u001b[0m \n",
            " \u001b[2moutput_filepath (str): Path to the JSON file to save curated metadata.     api_endpoints_filepath \u001b[0m \n",
            " \u001b[2m(str): Path of the JSON file with schema API endpoints for metadata blocks\u001b[0m                         \n",
            "                                                                                                    \n",
            "\u001b[2m╭─\u001b[0m\u001b[2m Options \u001b[0m\u001b[2m───────────────────────────────────────────────────────────────────────────────────────\u001b[0m\u001b[2m─╮\u001b[0m\n",
            "\u001b[2m│\u001b[0m \u001b[1;36m-\u001b[0m\u001b[1;36m-harvested_metadata_filepath\u001b[0m  \u001b[1;32m-h\u001b[0m      \u001b[1;33mTEXT\u001b[0m  Path to the JSON file with harvested metadata       \u001b[2m│\u001b[0m\n",
            "\u001b[2m│\u001b[0m                                              \u001b[2m[default:                                          \u001b[0m \u001b[2m│\u001b[0m\n",
            "\u001b[2m│\u001b[0m                                              \u001b[2m/content/Harvester-Curator/output/harvester_output…\u001b[0m \u001b[2m│\u001b[0m\n",
            "\u001b[2m│\u001b[0m \u001b[1;36m-\u001b[0m\u001b[1;36m-output_filepath\u001b[0m              \u001b[1;32m-o\u001b[0m      \u001b[1;33mTEXT\u001b[0m  Path to the JSON file to save curated metadata      \u001b[2m│\u001b[0m\n",
            "\u001b[2m│\u001b[0m                                              \u001b[2m[default:                                          \u001b[0m \u001b[2m│\u001b[0m\n",
            "\u001b[2m│\u001b[0m                                              \u001b[2m/content/Harvester-Curator/output/curator_output.j…\u001b[0m \u001b[2m│\u001b[0m\n",
            "\u001b[2m│\u001b[0m \u001b[1;36m-\u001b[0m\u001b[1;36m-api_endpoints_filepath\u001b[0m       \u001b[1;32m-a\u001b[0m      \u001b[1;33mTEXT\u001b[0m  Path of the JSON file with schema API endpoints for \u001b[2m│\u001b[0m\n",
            "\u001b[2m│\u001b[0m                                              metadata blocks                                     \u001b[2m│\u001b[0m\n",
            "\u001b[2m│\u001b[0m                                              \u001b[2m[default:                                          \u001b[0m \u001b[2m│\u001b[0m\n",
            "\u001b[2m│\u001b[0m                                              \u001b[2m/content/Harvester-Curator/curator/api_end_points/…\u001b[0m \u001b[2m│\u001b[0m\n",
            "\u001b[2m│\u001b[0m \u001b[1;36m-\u001b[0m\u001b[1;36m-help\u001b[0m                                 \u001b[1;33m    \u001b[0m  Show this message and exit.                         \u001b[2m│\u001b[0m\n",
            "\u001b[2m╰──────────────────────────────────────────────────────────────────────────────────────────────────╯\u001b[0m\n",
            "\n"
          ]
        }
      ],
      "source": [
        "# curate command help\n",
        "!python cli.py curate --help"
      ]
    },
    {
      "cell_type": "code",
      "execution_count": 34,
      "metadata": {
        "colab": {
          "base_uri": "https://localhost:8080/"
        },
        "id": "uYZgxc-ERsDT",
        "outputId": "d069ff53-2065-474c-a7a8-fc2baab498d1"
      },
      "outputs": [
        {
          "name": "stdout",
          "output_type": "stream",
          "text": [
            "Processing citation metadata for ned.bib...\n",
            "\n",
            "Processing codeMeta20 metadata for codemeta.json...\n",
            "\n",
            "Processing citation metadata for codemeta.json...\n",
            "\n",
            "Compatible Metadata:\n",
            "metadatablocks:\n",
            "  citation:\n",
            "    author:\n",
            "    - authorName: Edward Coltman\n",
            "    - authorName: Martin Schneider\n",
            "    - authorName: Rainer Helmig\n",
            "    contributor:\n",
            "    - contributorName: Joe Doe1\n",
            "    - contributorName: Joe Doe2\n",
            "    dsDescription:\n",
            "    - dsDescriptionValue: Project to automate the harvesting and curating metadata\n",
            "        from user's code and/or data repository\n",
            "    title: 'Data-Driven Scale Bridging Parametrizations with Metrics: Dispersive Transport'\n",
            "  codeMeta20:\n",
            "    codeRepository:\n",
            "    - https://github.com/SimTech-Research-Data-Management/Harvester-Curator\n",
            "    developmentStatus: Active\n",
            "    softwareRequirementsItem:\n",
            "    - softwareRequirements: cffconvert 2.0.0\n",
            "    - softwareRequirements: pydantic 2.6.1\n",
            "    - softwareRequirements: PyYAML 6.0.1\n",
            "    - softwareRequirements: h5py 3.10.0\n",
            "    - softwareRequirements: pyvista 0.43.3\n",
            "    - softwareRequirements: vtk 9.3.0\n",
            "    - softwareRequirements: python-magic 0.4.27\n",
            "    - softwareRequirements: easyDataverse\n",
            "\n"
          ]
        }
      ],
      "source": [
        "# Test curate command with default arguments\n",
        "!python cli.py curate"
      ]
    },
    {
      "cell_type": "code",
      "execution_count": 13,
      "metadata": {
        "colab": {
          "base_uri": "https://localhost:8080/"
        },
        "id": "At3SYnSp482h",
        "outputId": "3ea44cb8-b9d8-4421-f9c5-ae4f722b56ab"
      },
      "outputs": [
        {
          "name": "stdout",
          "output_type": "stream",
          "text": [
            "{\n",
            "  \"metadatablocks\": {\n",
            "    \"citation\": {\n",
            "      \"title\": \"Data-Driven Scale Bridging Parametrizations with Metrics: Dispersive Transport\",\n",
            "      \"author\": [\n",
            "        {\n",
            "          \"authorName\": \"Edward Coltman\"\n",
            "        },\n",
            "        {\n",
            "          \"authorName\": \"Martin Schneider\"\n",
            "        },\n",
            "        {\n",
            "          \"authorName\": \"Rainer Helmig\"\n",
            "        }\n",
            "      ],\n",
            "      \"dsDescription\": [\n",
            "        {\n",
            "          \"dsDescriptionValue\": \"Project to automate the harvesting and curating metadata from user's code and/or data repository\"\n",
            "        }\n",
            "      ],\n",
            "      \"contributor\": [\n",
            "        {\n",
            "          \"contributorName\": \"Joe Doe1\"\n",
            "        },\n",
            "        {\n",
            "          \"contributorName\": \"Joe Doe2\"\n",
            "        }\n",
            "      ]\n",
            "    },\n",
            "    \"codeMeta20\": {\n",
            "      \"codeRepository\": [\n",
            "        \"https://github.com/SimTech-Research-Data-Management/Harvester-Curator\"\n",
            "      ],\n",
            "      \"developmentStatus\": \"Active\",\n",
            "      \"softwareRequirementsItem\": [\n",
            "        {\n",
            "          \"softwareRequirements\": \"cffconvert 2.0.0\"\n",
            "        },\n",
            "        {\n",
            "          \"softwareRequirements\": \"pydantic 2.6.1\"\n",
            "        },\n",
            "        {\n",
            "          \"softwareRequirements\": \"PyYAML 6.0.1\"\n",
            "        },\n",
            "        {\n",
            "          \"softwareRequirements\": \"h5py 3.10.0\"\n",
            "        },\n",
            "        {\n",
            "          \"softwareRequirements\": \"pyvista 0.43.3\"\n",
            "        },\n",
            "        {\n",
            "          \"softwareRequirements\": \"vtk 9.3.0\"\n",
            "        },\n",
            "        {\n",
            "          \"softwareRequirements\": \"python-magic 0.4.27\"\n",
            "        },\n",
            "        {\n",
            "          \"softwareRequirements\": \"easyDataverse\"\n",
            "        }\n",
            "      ]\n",
            "    }\n",
            "  }\n",
            "}"
          ]
        }
      ],
      "source": [
        "# Read curated metadata\n",
        "!cat output/curator_output.json"
      ]
    },
    {
      "cell_type": "markdown",
      "metadata": {
        "id": "kHQU-7QXZhQY"
      },
      "source": [
        "## Test upload command\n",
        "\n",
        "---\n",
        "\n"
      ]
    },
    {
      "cell_type": "code",
      "execution_count": 35,
      "metadata": {
        "colab": {
          "base_uri": "https://localhost:8080/"
        },
        "id": "BK7ABEOHQvwp",
        "outputId": "a9fc97fb-7b3c-4095-b893-eaecb42e882d"
      },
      "outputs": [
        {
          "name": "stdout",
          "output_type": "stream",
          "text": [
            "\u001b[1m                                                                                                    \u001b[0m\n",
            "\u001b[1m \u001b[0m\u001b[1;33mUsage: \u001b[0m\u001b[1mcli.py upload [OPTIONS]\u001b[0m\u001b[1m                                                                    \u001b[0m\u001b[1m \u001b[0m\n",
            "\u001b[1m                                                                                                    \u001b[0m\n",
            " Uploads a dataset with curated metadata to a given Dataverse installation                          \n",
            " \u001b[2mArgs:      curated_metadata_filepath (str): Path to the JSON file that contains curated metadata  \u001b[0m \n",
            " \u001b[2mserver_url (str): Server address     api_token (str): API token for accessing Dataverse API     \u001b[0m   \n",
            " \u001b[2mdataverse_id (str): Alias of the host Dataverse for the dataset to be uploaded\u001b[0m                     \n",
            "                                                                                                    \n",
            "\u001b[2m╭─\u001b[0m\u001b[2m Options \u001b[0m\u001b[2m───────────────────────────────────────────────────────────────────────────────────────\u001b[0m\u001b[2m─╮\u001b[0m\n",
            "\u001b[2m│\u001b[0m \u001b[31m*\u001b[0m  \u001b[1;36m-\u001b[0m\u001b[1;36m-server_url\u001b[0m                 \u001b[1;32m-s\u001b[0m      \u001b[1;33mTEXT\u001b[0m  Server address \u001b[2m[default: None]\u001b[0m \u001b[2;31m[required]\u001b[0m          \u001b[2m│\u001b[0m\n",
            "\u001b[2m│\u001b[0m \u001b[31m*\u001b[0m  \u001b[1;36m-\u001b[0m\u001b[1;36m-api_token\u001b[0m                  \u001b[1;32m-a\u001b[0m      \u001b[1;33mTEXT\u001b[0m  API token for accessing Dataverse API              \u001b[2m│\u001b[0m\n",
            "\u001b[2m│\u001b[0m                                               \u001b[2m[default: None]                      \u001b[0m              \u001b[2m│\u001b[0m\n",
            "\u001b[2m│\u001b[0m                                               \u001b[2;31m[required]                           \u001b[0m              \u001b[2m│\u001b[0m\n",
            "\u001b[2m│\u001b[0m \u001b[31m*\u001b[0m  \u001b[1;36m-\u001b[0m\u001b[1;36m-dataverse_id\u001b[0m               \u001b[1;32m-d\u001b[0m      \u001b[1;33mTEXT\u001b[0m  Alias of the host Dataverse for the dataset to be  \u001b[2m│\u001b[0m\n",
            "\u001b[2m│\u001b[0m                                               uploaded                                           \u001b[2m│\u001b[0m\n",
            "\u001b[2m│\u001b[0m                                               \u001b[2m[default: None]                                   \u001b[0m \u001b[2m│\u001b[0m\n",
            "\u001b[2m│\u001b[0m                                               \u001b[2;31m[required]                                        \u001b[0m \u001b[2m│\u001b[0m\n",
            "\u001b[2m│\u001b[0m    \u001b[1;36m-\u001b[0m\u001b[1;36m-curated_metadata_filepath\u001b[0m  \u001b[1;32m-c\u001b[0m      \u001b[1;33mTEXT\u001b[0m  Path to the JSON file that contains curated        \u001b[2m│\u001b[0m\n",
            "\u001b[2m│\u001b[0m                                               metadata                                           \u001b[2m│\u001b[0m\n",
            "\u001b[2m│\u001b[0m                                               \u001b[2m[default:                                         \u001b[0m \u001b[2m│\u001b[0m\n",
            "\u001b[2m│\u001b[0m                                               \u001b[2m/content/Harvester-Curator/output/curator_output.…\u001b[0m \u001b[2m│\u001b[0m\n",
            "\u001b[2m│\u001b[0m    \u001b[1;36m-\u001b[0m\u001b[1;36m-help\u001b[0m                               \u001b[1;33m    \u001b[0m  Show this message and exit.                        \u001b[2m│\u001b[0m\n",
            "\u001b[2m╰──────────────────────────────────────────────────────────────────────────────────────────────────╯\u001b[0m\n",
            "\n"
          ]
        }
      ],
      "source": [
        "# upload command help\n",
        "!python cli.py upload --help"
      ]
    },
    {
      "cell_type": "code",
      "execution_count": 36,
      "metadata": {
        "colab": {
          "base_uri": "https://localhost:8080/"
        },
        "id": "iObKII6vZNsv",
        "outputId": "19888dd5-9f82-4643-b621-50e011daac7b"
      },
      "outputs": [
        {
          "name": "stdout",
          "output_type": "stream",
          "text": [
            "\n",
            "\n",
            "citation metadata: {'title': 'Data-Driven Scale Bridging Parametrizations with Metrics: Dispersive Transport', 'author': [{'authorName': 'Edward Coltman'}, {'authorName': 'Martin Schneider'}, {'authorName': 'Rainer Helmig'}], 'dsDescription': [{'dsDescriptionValue': \"Project to automate the harvesting and curating metadata from user's code and/or data repository\"}], 'contributor': [{'contributorName': 'Joe Doe1'}, {'contributorName': 'Joe Doe2'}]}\n",
            "\n",
            "\n",
            "\u001b[2K🎉 \u001b[1mConnected to \u001b[0m\u001b[1;32m'https://darus.uni-stuttgart.de/'\u001b[0m\n",
            "\u001b[2K\n",
            "\u001b[?25hDataset with pid 'doi:10.18419/darus-4046' created.\n",
            "https://darus.uni-stuttgart.de//dataset.xhtml?persistentId=doi:10.18419/darus-4046\n"
          ]
        }
      ],
      "source": [
        "# Test upload command\n",
        "# **Note**: please replace XX with real api_token and replace YY with real dataverse_id\n",
        "!python cli.py upload -s https://darus.uni-stuttgart.de/ -a XX -d YY"
      ]
    }
  ],
  "metadata": {
    "colab": {
      "provenance": [],
      "toc_visible": true
    },
    "kernelspec": {
      "display_name": "Python 3",
      "name": "python3"
    },
    "language_info": {
      "name": "python"
    }
  },
  "nbformat": 4,
  "nbformat_minor": 0
}
