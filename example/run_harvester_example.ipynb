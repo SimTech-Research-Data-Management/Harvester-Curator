{
 "cells": [
  {
   "cell_type": "code",
   "execution_count": 1,
   "id": "6089ea70-a27a-4b93-97c7-6b67006053d6",
   "metadata": {},
   "outputs": [
    {
     "name": "stdout",
     "output_type": "stream",
     "text": [
      "Start havesting metadata from files under the given path example_input_folder ...\n",
      "\n",
      "Traceback (most recent call last):\n",
      "  File \"/Users/wangfg/Documents/myDataProject/Harvester_Curator_New/darus_data_harvester/example/harvester_related/../../harvester/harvester.py\", line 115, in <module>\n",
      "    all_file_groups = harvester(args.path, args.verbose)\n",
      "                      ^^^^^^^^^^^^^^^^^^^^^^^^^^^^^^^^^^\n",
      "  File \"/Users/wangfg/Documents/myDataProject/Harvester_Curator_New/darus_data_harvester/example/harvester_related/../../harvester/harvester.py\", line 83, in harvester\n",
      "    metadata = file_type_parser(file)\n",
      "               ^^^^^^^^^^^^^^^^^^^^^^\n",
      "  File \"/Users/wangfg/Documents/myDataProject/Harvester_Curator_New/darus_data_harvester/harvester/parser.py\", line 270, in parse_bib\n",
      "    subprocess.run(command, check=True)\n",
      "  File \"/Users/wangfg/.pyenv/versions/3.11.2/lib/python3.11/subprocess.py\", line 548, in run\n",
      "    with Popen(*popenargs, **kwargs) as process:\n",
      "         ^^^^^^^^^^^^^^^^^^^^^^^^^^^\n",
      "  File \"/Users/wangfg/.pyenv/versions/3.11.2/lib/python3.11/subprocess.py\", line 1024, in __init__\n",
      "    self._execute_child(args, executable, preexec_fn, close_fds,\n",
      "  File \"/Users/wangfg/.pyenv/versions/3.11.2/lib/python3.11/subprocess.py\", line 1901, in _execute_child\n",
      "    raise child_exception_type(errno_num, err_msg, err_filename)\n",
      "FileNotFoundError: [Errno 2] No such file or directory: 'bibtex2cff'\n"
     ]
    }
   ],
   "source": [
    "! python3 ../../harvester/harvester.py --path example_input_folder -v"
   ]
  },
  {
   "cell_type": "code",
   "execution_count": 2,
   "id": "56033201",
   "metadata": {},
   "outputs": [
    {
     "name": "stdout",
     "output_type": "stream",
     "text": [
      "python3: can't open file '/home/sarbani/harvester-curator/darus_data_harvester/harvester/harvester.py': [Errno 2] No such file or directory\n"
     ]
    }
   ],
   "source": [
    "! python3 /home/sarbani/harvester-curator/darus_data_harvester/harvester/harvester.py --path /home/sarbani/harvester-curator/darus_data_harvester/example/harvester_related/example_input_folder"
   ]
  }
 ],
 "metadata": {
  "kernelspec": {
   "display_name": "Python 3 (ipykernel)",
   "language": "python",
   "name": "python3"
  },
  "language_info": {
   "codemirror_mode": {
    "name": "ipython",
    "version": 3
   },
   "file_extension": ".py",
   "mimetype": "text/x-python",
   "name": "python",
   "nbconvert_exporter": "python",
   "pygments_lexer": "ipython3",
   "version": "3.11.2"
  },
  "vscode": {
   "interpreter": {
    "hash": "916dbcbb3f70747c44a77c7bcd40155683ae19c65e1c03b4aa3499c5328201f1"
   }
  }
 },
 "nbformat": 4,
 "nbformat_minor": 5
}
