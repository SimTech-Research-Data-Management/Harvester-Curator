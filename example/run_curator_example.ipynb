{
 "cells": [
  {
   "cell_type": "code",
   "execution_count": 2,
   "id": "6089ea70-a27a-4b93-97c7-6b67006053d6",
   "metadata": {},
   "outputs": [
    {
     "name": "stdout",
     "output_type": "stream",
     "text": [
      "Processing citation...\n",
      "\n",
      "\n",
      "Do you want to mean Point of Contact by Point of Contacts? (yes/no) \n",
      "^C\n",
      "Traceback (most recent call last):\n",
      "  File \"/home/sarbani/harvester-curator/darus_data_harvester/curator/curator.py\", line 216, in <module>\n",
      "    com_har_metadata = get_compatible_metadatablocks(com_metadata_file, com_metadata, schema_name, har_json_data, metadata_schema)\n",
      "  File \"/home/sarbani/harvester-curator/darus_data_harvester/curator/curator.py\", line 134, in get_compatible_metadatablocks\n",
      "    user_input = input(f'\\nDo you want to mean {test_criteria} by {har_json_class}? (yes/no) \\n')\n",
      "KeyboardInterrupt\n",
      "\u001b[0m"
     ]
    }
   ],
   "source": [
    "! python3 /home/sarbani/harvester-curator/darus_data_harvester/curator/curator.py --apiendp /home/sarbani/harvester-curator/darus_data_harvester/curator/api_end_points/darus_md_schema_api_endpoints.json --harmd /home/sarbani/harvester-curator/darus_data_harvester/example/curator_related/harvested_metadata_example.json"
   ]
  }
 ],
 "metadata": {
  "kernelspec": {
   "display_name": "Python 3.10.12 64-bit",
   "language": "python",
   "name": "python3"
  },
  "language_info": {
   "codemirror_mode": {
    "name": "ipython",
    "version": 3
   },
   "file_extension": ".py",
   "mimetype": "text/x-python",
   "name": "python",
   "nbconvert_exporter": "python",
   "pygments_lexer": "ipython3",
   "version": "3.10.12"
  },
  "vscode": {
   "interpreter": {
    "hash": "916dbcbb3f70747c44a77c7bcd40155683ae19c65e1c03b4aa3499c5328201f1"
   }
  }
 },
 "nbformat": 4,
 "nbformat_minor": 5
}
