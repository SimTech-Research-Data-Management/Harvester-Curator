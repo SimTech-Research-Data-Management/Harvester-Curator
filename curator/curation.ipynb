{
 "cells": [
  {
   "cell_type": "code",
   "execution_count": 1,
   "metadata": {},
   "outputs": [
    {
     "name": "stdout",
     "output_type": "stream",
     "text": [
      "Processing citation metadata\n",
      "Processing privacy metadata\n",
      "Processing engMeta metadata\n",
      "lib_name: pyDaRUS\n",
      "metadatablocks:\n",
      "  citation:\n",
      "    author:\n",
      "      - name: Author 1\n",
      "        affiliation: University of Stuttgart\n",
      "      - name: Author 2\n",
      "        affiliation: University of Stuttgart\n",
      "    description:\n",
      "      - text: This describes my dataset\n",
      "        date: '2023'\n",
      "    keyword:\n",
      "      - term: mean squared error\n",
      "        vocabulary: TEMA\n",
      "        vocabulary_url: https://purl.org/tema/233675\n",
      "      - term: mathematical physics\n",
      "    contact:\n",
      "      - name: Contact 1\n",
      "        email: contact1@uni-stuttgart.de\n",
      "      - name: Contact 2\n",
      "        email: contact2@uni-stuttgart.de\n",
      "    title: Example of Curation with Citation Metadata field\n",
      "    subject:\n",
      "      - Mathematical Sciences\n",
      "  privacy:\n",
      "    personal_data: 'no'\n",
      "  engMeta:\n",
      "    spatial_resolution:\n",
      "      - number_of_cells: 10\n",
      "        number_of_blocks: 20\n",
      "\n",
      "Dataset with pid 'doi:10.15770/darus-2354' created.\n",
      "https://demodarus.izus.uni-stuttgart.de/dataset.xhtml?persistentId=doi:10.15770/darus-2354\n",
      "Dataset created and directory uploaded successfully.\n"
     ]
    }
   ],
   "source": [
    "import os\n",
    "os.environ[\"DATAVERSE_API_TOKEN\"] = ''\n",
    "%run -i \"curation.py\""
   ]
  },
  {
   "cell_type": "code",
   "execution_count": 4,
   "metadata": {},
   "outputs": [
    {
     "name": "stdout",
     "output_type": "stream",
     "text": [
      "Downloading data files: : 0it [00:00, ?it/s]\n",
      "[SpatialResolution(number_of_cells=10, number_of_blocks=20, number_of_points_x=None, number_of_points_y=None, number_of_points_z=None, interval_x=None, interval_y=None, interval_z=None, unit=None, scaling_formular=None)]\n"
     ]
    }
   ],
   "source": [
    "from pyDaRUS import Dataset\n",
    "p_id = 'doi:10.15770/darus-2354'\n",
    "dataset = Dataset.from_dataverse_doi(p_id)\n",
    "print(dataset.engMeta.spatial_resolution)"
   ]
  }
 ],
 "metadata": {
  "kernelspec": {
   "display_name": "Python 3.10.6 64-bit",
   "language": "python",
   "name": "python3"
  },
  "language_info": {
   "codemirror_mode": {
    "name": "ipython",
    "version": 3
   },
   "file_extension": ".py",
   "mimetype": "text/x-python",
   "name": "python",
   "nbconvert_exporter": "python",
   "pygments_lexer": "ipython3",
   "version": "3.10.12"
  },
  "orig_nbformat": 4,
  "vscode": {
   "interpreter": {
    "hash": "916dbcbb3f70747c44a77c7bcd40155683ae19c65e1c03b4aa3499c5328201f1"
   }
  }
 },
 "nbformat": 4,
 "nbformat_minor": 2
}
