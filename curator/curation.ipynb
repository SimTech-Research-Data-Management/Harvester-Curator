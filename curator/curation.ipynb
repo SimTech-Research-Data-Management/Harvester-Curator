{
 "cells": [
  {
   "cell_type": "code",
   "execution_count": 13,
   "metadata": {},
   "outputs": [
    {
     "name": "stdout",
     "output_type": "stream",
     "text": [
      "Dataset with pid 'doi:10.15770/darus-2318' created.\n",
      "https://demodarus.izus.uni-stuttgart.de/dataset.xhtml?persistentId=doi:10.15770/darus-2318\n",
      "Dataset created and directory uploaded successfully.\n"
     ]
    }
   ],
   "source": [
    "import os\n",
    "os.environ[\"DATAVERSE_API_TOKEN\"] = ''\n",
    "%run -i \"curation.py\""
   ]
  },
  {
   "cell_type": "code",
   "execution_count": 11,
   "metadata": {},
   "outputs": [
    {
     "name": "stdout",
     "output_type": "stream",
     "text": [
      "Downloading data files: : 0it [00:00, ?it/s]\n",
      "[Author(name='Author 1', affiliation='University of Stuttgart', identifier_scheme=None, identifier=None), Author(name='Author 2', affiliation='University of Stuttgart', identifier_scheme=None, identifier=None)]\n"
     ]
    }
   ],
   "source": [
    "from pyDaRUS import Dataset\n",
    "p_id = 'doi:10.15770/darus-2318'\n",
    "dataset = Dataset.from_dataverse_doi(p_id)\n",
    "print(dataset.citation.author)"
   ]
  }
 ],
 "metadata": {
  "kernelspec": {
   "display_name": "Python 3.10.6 64-bit",
   "language": "python",
   "name": "python3"
  },
  "language_info": {
   "codemirror_mode": {
    "name": "ipython",
    "version": 3
   },
   "file_extension": ".py",
   "mimetype": "text/x-python",
   "name": "python",
   "nbconvert_exporter": "python",
   "pygments_lexer": "ipython3",
   "version": "3.10.6"
  },
  "orig_nbformat": 4,
  "vscode": {
   "interpreter": {
    "hash": "916dbcbb3f70747c44a77c7bcd40155683ae19c65e1c03b4aa3499c5328201f1"
   }
  }
 },
 "nbformat": 4,
 "nbformat_minor": 2
}
