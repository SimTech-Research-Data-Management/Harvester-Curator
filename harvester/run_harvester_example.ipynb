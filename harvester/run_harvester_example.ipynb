{
 "cells": [
  {
   "cell_type": "code",
   "execution_count": 1,
   "id": "f3d5ab98-02f1-44b2-87d1-988b2c8968be",
   "metadata": {},
   "outputs": [],
   "source": [
    "# Run crawler.py"
   ]
  },
  {
   "cell_type": "code",
   "execution_count": 2,
   "id": "562ce8b3-9df7-4d6b-8a5d-ba2ca1e507f0",
   "metadata": {},
   "outputs": [
    {
     "name": "stdout",
     "output_type": "stream",
     "text": [
      "----- A simple example of using crawler in a given directory ---- \n",
      "\n",
      "All files found by crawler in the directory: \n",
      " {'vtu': ['/Users/wangfg/Documents/myDataProject/myWork/zusammenWork/darus_data_harvester_V2/example/test_mesh.vtu', '/Users/wangfg/Documents/myDataProject/myWork/zusammenWork/darus_data_harvester_V2/example/00_raw_binary.vtu', '/Users/wangfg/Documents/myDataProject/myWork/zusammenWork/darus_data_harvester_V2/example/vox8_binary_inline.vtu', '/Users/wangfg/Documents/myDataProject/myWork/zusammenWork/darus_data_harvester_V2/example/01_raw_binary_int64.vtu', '/Users/wangfg/Documents/myDataProject/myWork/zusammenWork/darus_data_harvester_V2/example/ugridex.vtu', '/Users/wangfg/Documents/myDataProject/myWork/zusammenWork/darus_data_harvester_V2/example/vox8_binary_inline_zlib.vtu', '/Users/wangfg/Documents/myDataProject/myWork/zusammenWork/darus_data_harvester_V2/example/vox8_binary_appended.vtu', '/Users/wangfg/Documents/myDataProject/myWork/zusammenWork/darus_data_harvester_V2/example/vox8_ascii.vtu', '/Users/wangfg/Documents/myDataProject/myWork/zusammenWork/darus_data_harvester_V2/example/02_raw_compressed.vtu', '/Users/wangfg/Documents/myDataProject/myWork/zusammenWork/darus_data_harvester_V2/example/fire_ug.vtu', '/Users/wangfg/Documents/myDataProject/myWork/zusammenWork/darus_data_harvester_V2/example/triangle_mesh_linear.vtu', '/Users/wangfg/Documents/myDataProject/myWork/zusammenWork/darus_data_harvester_V2/example/T0000000500/003.vtu', '/Users/wangfg/Documents/myDataProject/myWork/zusammenWork/darus_data_harvester_V2/example/T0000000500/002.vtu', '/Users/wangfg/Documents/myDataProject/myWork/zusammenWork/darus_data_harvester_V2/example/T0000000500/000.vtu', '/Users/wangfg/Documents/myDataProject/myWork/zusammenWork/darus_data_harvester_V2/example/T0000000500/001.vtu'], 'vtk': ['/Users/wangfg/Documents/myDataProject/myWork/zusammenWork/darus_data_harvester_V2/example/gh-935.vtk', '/Users/wangfg/Documents/myDataProject/myWork/zusammenWork/darus_data_harvester_V2/example/06_unstructured.vtk', '/Users/wangfg/Documents/myDataProject/myWork/zusammenWork/darus_data_harvester_V2/example/01_image.vtk', '/Users/wangfg/Documents/myDataProject/myWork/zusammenWork/darus_data_harvester_V2/example/vox8_ascii.vtk', '/Users/wangfg/Documents/myDataProject/myWork/zusammenWork/darus_data_harvester_V2/example/04_rectilinear.vtk', '/Users/wangfg/Documents/myDataProject/myWork/zusammenWork/darus_data_harvester_V2/example/hello.vtk', '/Users/wangfg/Documents/myDataProject/myWork/zusammenWork/darus_data_harvester_V2/example/02_structured.vtk', '/Users/wangfg/Documents/myDataProject/myWork/zusammenWork/darus_data_harvester_V2/example/vox8_binary.vtk', '/Users/wangfg/Documents/myDataProject/myWork/zusammenWork/darus_data_harvester_V2/example/06_color_scalars.vtk'], 'txt': ['/Users/wangfg/Documents/myDataProject/myWork/zusammenWork/darus_data_harvester_V2/example/citation.txt'], 'xml': ['/Users/wangfg/Documents/myDataProject/myWork/zusammenWork/darus_data_harvester_V2/example/book.xml', '/Users/wangfg/Documents/myDataProject/myWork/zusammenWork/darus_data_harvester_V2/example/author_name.xml'], 'ply': ['/Users/wangfg/Documents/myDataProject/myWork/zusammenWork/darus_data_harvester_V2/example/bun_zipper_res4.ply'], 'stl': ['/Users/wangfg/Documents/myDataProject/myWork/zusammenWork/darus_data_harvester_V2/example/bunny.stl'], 'wrl': ['/Users/wangfg/Documents/myDataProject/myWork/zusammenWork/darus_data_harvester_V2/example/Box.wrl'], 'glb': ['/Users/wangfg/Documents/myDataProject/myWork/zusammenWork/darus_data_harvester_V2/example/Box.glb'], 'png': ['/Users/wangfg/Documents/myDataProject/myWork/zusammenWork/darus_data_harvester_V2/example/uni_stuttgart.png'], 'jpg': ['/Users/wangfg/Documents/myDataProject/myWork/zusammenWork/darus_data_harvester_V2/example/earth.jpg'], 'pvtu': ['/Users/wangfg/Documents/myDataProject/myWork/zusammenWork/darus_data_harvester_V2/example/T0000000500.pvtu'], 'vti': ['/Users/wangfg/Documents/myDataProject/myWork/zusammenWork/darus_data_harvester_V2/example/heart.vti'], 'obj': ['/Users/wangfg/Documents/myDataProject/myWork/zusammenWork/darus_data_harvester_V2/example/elephav.obj']}\n"
     ]
    }
   ],
   "source": [
    "%run -i \"crawler.py\""
   ]
  },
  {
   "cell_type": "code",
   "execution_count": 3,
   "id": "0c8b497b-cf85-4d84-bea1-3aa968349b71",
   "metadata": {},
   "outputs": [],
   "source": [
    "# Run parser.py"
   ]
  },
  {
   "cell_type": "code",
   "execution_count": 4,
   "id": "7e3e7812-c70d-4cf1-bd8a-f3ae0f409d61",
   "metadata": {},
   "outputs": [],
   "source": [
    "%run -i \"parser.py\""
   ]
  },
  {
   "cell_type": "code",
   "execution_count": 5,
   "id": "e4ed05ff-af8b-4c40-a75c-7ea396f88646",
   "metadata": {},
   "outputs": [],
   "source": [
    "# Run harvester.py"
   ]
  },
  {
   "cell_type": "code",
   "execution_count": 6,
   "id": "6089ea70-a27a-4b93-97c7-6b67006053d6",
   "metadata": {},
   "outputs": [
    {
     "name": "stdout",
     "output_type": "stream",
     "text": [
      "----- A simple example of using harvester to extract metadata from all files in a given directory ---- \n",
      "\n",
      "Start havesting metadata from files under the given path /Users/wangfg/Documents/myDataProject/myWork/zusammenWork/darus_data_harvester_V2/example\n",
      "\n",
      "file name: test_mesh.vtu\n",
      "meta properties extracted: \n",
      "UnstructuredGrid (0x169f933a0)\n",
      "  N Cells:    5\n",
      "  N Points:   7\n",
      "  X Bounds:   0.000e+00, 2.000e+00\n",
      "  Y Bounds:   0.000e+00, 1.000e+00\n",
      "  Z Bounds:   0.000e+00, 0.000e+00\n",
      "  N Arrays:   4\n",
      "\n"
     ]
    },
    {
     "data": {
      "application/vnd.jupyter.widget-view+json": {
       "model_id": "c5ae1affe17e4ef8ada520d893b26abb",
       "version_major": 2,
       "version_minor": 0
      },
      "text/plain": [
       "Widget(value=\"<iframe src='http://localhost:60475/index.html?ui=P_0x168f43250_0&reconnect=auto' style='width: …"
      ]
     },
     "metadata": {},
     "output_type": "display_data"
    },
    {
     "name": "stdout",
     "output_type": "stream",
     "text": [
      "\n",
      "\n",
      "\n",
      "file name: 00_raw_binary.vtu\n",
      "meta properties extracted: \n",
      "UnstructuredGrid (0x169fc8fa0)\n",
      "  N Cells:    162\n",
      "  N Points:   64\n",
      "  X Bounds:   0.000e+00, 1.000e+00\n",
      "  Y Bounds:   0.000e+00, 1.000e+00\n",
      "  Z Bounds:   0.000e+00, 1.000e+00\n",
      "  N Arrays:   1\n",
      "\n"
     ]
    },
    {
     "data": {
      "application/vnd.jupyter.widget-view+json": {
       "model_id": "1056d8639e21431994b261d8c8aca60a",
       "version_major": 2,
       "version_minor": 0
      },
      "text/plain": [
       "Widget(value=\"<iframe src='http://localhost:60475/index.html?ui=P_0x168f66650_1&reconnect=auto' style='width: …"
      ]
     },
     "metadata": {},
     "output_type": "display_data"
    },
    {
     "name": "stdout",
     "output_type": "stream",
     "text": [
      "\n",
      "\n",
      "\n",
      "file name: vox8_binary_inline.vtu\n",
      "meta properties extracted: \n",
      "UnstructuredGrid (0x169fcb160)\n",
      "  N Cells:    8\n",
      "  N Points:   27\n",
      "  X Bounds:   0.000e+00, 2.000e+00\n",
      "  Y Bounds:   0.000e+00, 2.000e+00\n",
      "  Z Bounds:   0.000e+00, 2.000e+00\n",
      "  N Arrays:   12\n",
      "\n"
     ]
    },
    {
     "data": {
      "application/vnd.jupyter.widget-view+json": {
       "model_id": "16d31fe9949745bda0ef19f1a4911e81",
       "version_major": 2,
       "version_minor": 0
      },
      "text/plain": [
       "Widget(value=\"<iframe src='http://localhost:60475/index.html?ui=P_0x168fa86d0_2&reconnect=auto' style='width: …"
      ]
     },
     "metadata": {},
     "output_type": "display_data"
    },
    {
     "name": "stdout",
     "output_type": "stream",
     "text": [
      "\n",
      "\n",
      "\n",
      "file name: 01_raw_binary_int64.vtu\n",
      "meta properties extracted: \n",
      "UnstructuredGrid (0x169fcab00)\n",
      "  N Cells:    162\n",
      "  N Points:   64\n",
      "  X Bounds:   0.000e+00, 1.000e+00\n",
      "  Y Bounds:   0.000e+00, 1.000e+00\n",
      "  Z Bounds:   0.000e+00, 1.000e+00\n",
      "  N Arrays:   1\n",
      "\n"
     ]
    },
    {
     "data": {
      "application/vnd.jupyter.widget-view+json": {
       "model_id": "b2a99fc3a8314adba4d934f69624ab6e",
       "version_major": 2,
       "version_minor": 0
      },
      "text/plain": [
       "Widget(value=\"<iframe src='http://localhost:60475/index.html?ui=P_0x168f5db90_3&reconnect=auto' style='width: …"
      ]
     },
     "metadata": {},
     "output_type": "display_data"
    },
    {
     "name": "stdout",
     "output_type": "stream",
     "text": [
      "\n",
      "\n",
      "\n",
      "file name: ugridex.vtu\n",
      "meta properties extracted: \n",
      "UnstructuredGrid (0x1778e0dc0)\n",
      "  N Cells:    12\n",
      "  N Points:   27\n",
      "  X Bounds:   0.000e+00, 2.000e+00\n",
      "  Y Bounds:   0.000e+00, 1.000e+00\n",
      "  Z Bounds:   0.000e+00, 6.000e+00\n",
      "  N Arrays:   2\n",
      "\n"
     ]
    },
    {
     "data": {
      "application/vnd.jupyter.widget-view+json": {
       "model_id": "9f56fb74453e46c7abe49249c73e05ce",
       "version_major": 2,
       "version_minor": 0
      },
      "text/plain": [
       "Widget(value=\"<iframe src='http://localhost:60475/index.html?ui=P_0x168fb12d0_4&reconnect=auto' style='width: …"
      ]
     },
     "metadata": {},
     "output_type": "display_data"
    },
    {
     "name": "stdout",
     "output_type": "stream",
     "text": [
      "\n",
      "\n",
      "\n",
      "file name: vox8_binary_inline_zlib.vtu\n",
      "meta properties extracted: \n",
      "UnstructuredGrid (0x1778e3be0)\n",
      "  N Cells:    8\n",
      "  N Points:   27\n",
      "  X Bounds:   0.000e+00, 2.000e+00\n",
      "  Y Bounds:   0.000e+00, 2.000e+00\n",
      "  Z Bounds:   0.000e+00, 2.000e+00\n",
      "  N Arrays:   12\n",
      "\n"
     ]
    },
    {
     "data": {
      "application/vnd.jupyter.widget-view+json": {
       "model_id": "747c2d1327614266a81c8619bfc670ab",
       "version_major": 2,
       "version_minor": 0
      },
      "text/plain": [
       "Widget(value=\"<iframe src='http://localhost:60475/index.html?ui=P_0x16980e5d0_5&reconnect=auto' style='width: …"
      ]
     },
     "metadata": {},
     "output_type": "display_data"
    },
    {
     "name": "stdout",
     "output_type": "stream",
     "text": [
      "\n",
      "\n",
      "\n",
      "file name: vox8_binary_appended.vtu\n",
      "meta properties extracted: \n",
      "UnstructuredGrid (0x1778e20e0)\n",
      "  N Cells:    8\n",
      "  N Points:   27\n",
      "  X Bounds:   0.000e+00, 2.000e+00\n",
      "  Y Bounds:   0.000e+00, 2.000e+00\n",
      "  Z Bounds:   0.000e+00, 2.000e+00\n",
      "  N Arrays:   12\n",
      "\n"
     ]
    },
    {
     "data": {
      "application/vnd.jupyter.widget-view+json": {
       "model_id": "ab06ccd58ca8485cb7d4b1d0fdc52e72",
       "version_major": 2,
       "version_minor": 0
      },
      "text/plain": [
       "Widget(value=\"<iframe src='http://localhost:60475/index.html?ui=P_0x168ff7d50_6&reconnect=auto' style='width: …"
      ]
     },
     "metadata": {},
     "output_type": "display_data"
    },
    {
     "name": "stdout",
     "output_type": "stream",
     "text": [
      "\n",
      "\n",
      "\n",
      "file name: vox8_ascii.vtu\n",
      "meta properties extracted: \n",
      "UnstructuredGrid (0x177924400)\n",
      "  N Cells:    8\n",
      "  N Points:   27\n",
      "  X Bounds:   0.000e+00, 2.000e+00\n",
      "  Y Bounds:   0.000e+00, 2.000e+00\n",
      "  Z Bounds:   0.000e+00, 2.000e+00\n",
      "  N Arrays:   12\n",
      "\n"
     ]
    },
    {
     "data": {
      "application/vnd.jupyter.widget-view+json": {
       "model_id": "3fc9464e96ab4c8c91876de428acde57",
       "version_major": 2,
       "version_minor": 0
      },
      "text/plain": [
       "Widget(value=\"<iframe src='http://localhost:60475/index.html?ui=P_0x16982fb50_7&reconnect=auto' style='width: …"
      ]
     },
     "metadata": {},
     "output_type": "display_data"
    },
    {
     "name": "stdout",
     "output_type": "stream",
     "text": [
      "\n",
      "\n",
      "\n",
      "file name: 02_raw_compressed.vtu\n",
      "meta properties extracted: \n",
      "UnstructuredGrid (0x1779252a0)\n",
      "  N Cells:    162\n",
      "  N Points:   64\n",
      "  X Bounds:   0.000e+00, 1.000e+00\n",
      "  Y Bounds:   0.000e+00, 1.000e+00\n",
      "  Z Bounds:   0.000e+00, 1.000e+00\n",
      "  N Arrays:   1\n",
      "\n"
     ]
    },
    {
     "data": {
      "application/vnd.jupyter.widget-view+json": {
       "model_id": "e1b22504e325411c96daefa6668e584e",
       "version_major": 2,
       "version_minor": 0
      },
      "text/plain": [
       "Widget(value=\"<iframe src='http://localhost:60475/index.html?ui=P_0x16985dcd0_8&reconnect=auto' style='width: …"
      ]
     },
     "metadata": {},
     "output_type": "display_data"
    },
    {
     "name": "stdout",
     "output_type": "stream",
     "text": [
      "\n",
      "\n",
      "\n",
      "file name: fire_ug.vtu\n",
      "meta properties extracted: \n",
      "UnstructuredGrid (0x177926d40)\n",
      "  N Cells:    10462\n",
      "  N Points:   12323\n",
      "  X Bounds:   0.000e+00, 6.000e+00\n",
      "  Y Bounds:   0.000e+00, 2.500e+00\n",
      "  Z Bounds:   0.000e+00, 2.400e+00\n",
      "  N Arrays:   6\n",
      "\n"
     ]
    },
    {
     "data": {
      "application/vnd.jupyter.widget-view+json": {
       "model_id": "593ed152fb924157a434112b340b65c9",
       "version_major": 2,
       "version_minor": 0
      },
      "text/plain": [
       "Widget(value=\"<iframe src='http://localhost:60475/index.html?ui=P_0x169824650_9&reconnect=auto' style='width: …"
      ]
     },
     "metadata": {},
     "output_type": "display_data"
    },
    {
     "name": "stdout",
     "output_type": "stream",
     "text": [
      "\n",
      "\n",
      "\n",
      "file name: triangle_mesh_linear.vtu\n",
      "meta properties extracted: \n",
      "UnstructuredGrid (0x177959120)\n",
      "  N Cells:    6\n",
      "  N Points:   8\n",
      "  X Bounds:   0.000e+00, 2.000e+00\n",
      "  Y Bounds:   0.000e+00, 2.000e+00\n",
      "  Z Bounds:   0.000e+00, 0.000e+00\n",
      "  N Arrays:   3\n",
      "\n"
     ]
    },
    {
     "data": {
      "application/vnd.jupyter.widget-view+json": {
       "model_id": "b51902542afb493989919228ab60b5b5",
       "version_major": 2,
       "version_minor": 0
      },
      "text/plain": [
       "Widget(value=\"<iframe src='http://localhost:60475/index.html?ui=P_0x1698770d0_10&reconnect=auto' style='width:…"
      ]
     },
     "metadata": {},
     "output_type": "display_data"
    },
    {
     "name": "stdout",
     "output_type": "stream",
     "text": [
      "\n",
      "\n",
      "\n",
      "file name: 003.vtu\n",
      "meta properties extracted: \n",
      "UnstructuredGrid (0x1779585e0)\n",
      "  N Cells:    7125\n",
      "  N Points:   9184\n",
      "  X Bounds:   5.300e+01, 1.210e+02\n",
      "  Y Bounds:   6.900e+01, 9.200e+01\n",
      "  Z Bounds:   6.400e+01, 9.500e+01\n",
      "  N Arrays:   5\n",
      "\n"
     ]
    },
    {
     "data": {
      "application/vnd.jupyter.widget-view+json": {
       "model_id": "06b56432a5414ae5ba73ed317d1480f1",
       "version_major": 2,
       "version_minor": 0
      },
      "text/plain": [
       "Widget(value=\"<iframe src='http://localhost:60475/index.html?ui=P_0x169865c50_11&reconnect=auto' style='width:…"
      ]
     },
     "metadata": {},
     "output_type": "display_data"
    },
    {
     "name": "stdout",
     "output_type": "stream",
     "text": [
      "\n",
      "\n",
      "\n",
      "file name: 002.vtu\n",
      "meta properties extracted: \n",
      "UnstructuredGrid (0x17795bee0)\n",
      "  N Cells:    11757\n",
      "  N Points:   14251\n",
      "  X Bounds:   6.700e+01, 1.010e+02\n",
      "  Y Bounds:   7.700e+01, 9.700e+01\n",
      "  Z Bounds:   7.400e+01, 1.300e+02\n",
      "  N Arrays:   5\n",
      "\n"
     ]
    },
    {
     "data": {
      "application/vnd.jupyter.widget-view+json": {
       "model_id": "011babe74c5b4a1db6b7852985d08853",
       "version_major": 2,
       "version_minor": 0
      },
      "text/plain": [
       "Widget(value=\"<iframe src='http://localhost:60475/index.html?ui=P_0x1698b4850_12&reconnect=auto' style='width:…"
      ]
     },
     "metadata": {},
     "output_type": "display_data"
    },
    {
     "name": "stdout",
     "output_type": "stream",
     "text": [
      "\n",
      "\n",
      "\n",
      "file name: 000.vtu\n",
      "meta properties extracted: \n",
      "UnstructuredGrid (0x177997940)\n",
      "  N Cells:    8892\n",
      "  N Points:   11047\n",
      "  X Bounds:   7.200e+01, 1.030e+02\n",
      "  Y Bounds:   5.000e+01, 8.600e+01\n",
      "  Z Bounds:   1.390e+02, 1.820e+02\n",
      "  N Arrays:   5\n",
      "\n"
     ]
    },
    {
     "data": {
      "application/vnd.jupyter.widget-view+json": {
       "model_id": "8d13b094ae14438094685351a4fb2968",
       "version_major": 2,
       "version_minor": 0
      },
      "text/plain": [
       "Widget(value=\"<iframe src='http://localhost:60475/index.html?ui=P_0x1698e8790_13&reconnect=auto' style='width:…"
      ]
     },
     "metadata": {},
     "output_type": "display_data"
    },
    {
     "name": "stdout",
     "output_type": "stream",
     "text": [
      "\n",
      "\n",
      "\n",
      "file name: 001.vtu\n",
      "meta properties extracted: \n",
      "UnstructuredGrid (0x177996a40)\n",
      "  N Cells:    11579\n",
      "  N Points:   14341\n",
      "  X Bounds:   8.400e+01, 1.160e+02\n",
      "  Y Bounds:   6.300e+01, 9.000e+01\n",
      "  Z Bounds:   9.000e+01, 1.480e+02\n",
      "  N Arrays:   5\n",
      "\n"
     ]
    },
    {
     "data": {
      "application/vnd.jupyter.widget-view+json": {
       "model_id": "d656be90959a4673aa50887818a09876",
       "version_major": 2,
       "version_minor": 0
      },
      "text/plain": [
       "Widget(value=\"<iframe src='http://localhost:60475/index.html?ui=P_0x1698d5110_14&reconnect=auto' style='width:…"
      ]
     },
     "metadata": {},
     "output_type": "display_data"
    },
    {
     "name": "stdout",
     "output_type": "stream",
     "text": [
      "\n",
      "\n",
      "\n",
      "file name: gh-935.vtk\n",
      "meta properties extracted: \n",
      "UnstructuredGrid (0x1779971c0)\n",
      "  N Cells:    2\n",
      "  N Points:   6\n",
      "  X Bounds:   0.000e+00, 1.000e+00\n",
      "  Y Bounds:   0.000e+00, 1.000e+00\n",
      "  Z Bounds:   0.000e+00, 0.000e+00\n",
      "  N Arrays:   1\n",
      "\n"
     ]
    },
    {
     "data": {
      "application/vnd.jupyter.widget-view+json": {
       "model_id": "d5d3ffcd6a11444fbce39bb9a0f843b5",
       "version_major": 2,
       "version_minor": 0
      },
      "text/plain": [
       "Widget(value=\"<iframe src='http://localhost:60475/index.html?ui=P_0x16985ef90_15&reconnect=auto' style='width:…"
      ]
     },
     "metadata": {},
     "output_type": "display_data"
    },
    {
     "name": "stdout",
     "output_type": "stream",
     "text": [
      "\n",
      "\n",
      "\n",
      "file name: 06_unstructured.vtk\n",
      "meta properties extracted: \n",
      "UnstructuredGrid (0x1779bd7e0)\n",
      "  N Cells:    12\n",
      "  N Points:   42\n",
      "  X Bounds:   1.300e+00, 1.500e+00\n",
      "  Y Bounds:   8.000e-01, 1.000e+00\n",
      "  Z Bounds:   0.000e+00, 5.000e-01\n",
      "  N Arrays:   2\n",
      "\n"
     ]
    },
    {
     "data": {
      "application/vnd.jupyter.widget-view+json": {
       "model_id": "08817917427747bd85afb546e0b07f63",
       "version_major": 2,
       "version_minor": 0
      },
      "text/plain": [
       "Widget(value=\"<iframe src='http://localhost:60475/index.html?ui=P_0x299c1ac50_16&reconnect=auto' style='width:…"
      ]
     },
     "metadata": {},
     "output_type": "display_data"
    },
    {
     "name": "stdout",
     "output_type": "stream",
     "text": [
      "\n",
      "\n",
      "\n",
      "file name: 01_image.vtk\n",
      "meta properties extracted: \n",
      "ImageData (0x1779be0e0)\n",
      "  N Cells:      72\n",
      "  N Points:     147\n",
      "  X Bounds:     0.000e+00, 6.000e+00\n",
      "  Y Bounds:     0.000e+00, 6.000e+00\n",
      "  Z Bounds:     0.000e+00, 2.000e+00\n",
      "  Dimensions:   7, 7, 3\n",
      "  Spacing:      1.000e+00, 1.000e+00, 1.000e+00\n",
      "  N Arrays:     4\n",
      "\n"
     ]
    },
    {
     "data": {
      "application/vnd.jupyter.widget-view+json": {
       "model_id": "498510704eae40e69e39d98dd56f38a0",
       "version_major": 2,
       "version_minor": 0
      },
      "text/plain": [
       "Widget(value=\"<iframe src='http://localhost:60475/index.html?ui=P_0x169916f10_17&reconnect=auto' style='width:…"
      ]
     },
     "metadata": {},
     "output_type": "display_data"
    },
    {
     "name": "stdout",
     "output_type": "stream",
     "text": [
      "\n",
      "\n",
      "\n",
      "file name: vox8_ascii.vtk\n",
      "meta properties extracted: \n",
      "UnstructuredGrid (0x299c16ce0)\n",
      "  N Cells:    8\n",
      "  N Points:   27\n",
      "  X Bounds:   0.000e+00, 2.000e+00\n",
      "  Y Bounds:   0.000e+00, 2.000e+00\n",
      "  Z Bounds:   0.000e+00, 2.000e+00\n",
      "  N Arrays:   12\n",
      "\n"
     ]
    },
    {
     "data": {
      "application/vnd.jupyter.widget-view+json": {
       "model_id": "3b17fed02179449ea1bbd4b73c2778d8",
       "version_major": 2,
       "version_minor": 0
      },
      "text/plain": [
       "Widget(value=\"<iframe src='http://localhost:60475/index.html?ui=P_0x1698e3910_18&reconnect=auto' style='width:…"
      ]
     },
     "metadata": {},
     "output_type": "display_data"
    },
    {
     "name": "stdout",
     "output_type": "stream",
     "text": [
      "\n",
      "\n",
      "\n",
      "file name: 04_rectilinear.vtk\n",
      "meta properties extracted: \n",
      "RectilinearGrid (0x299c14ca0)\n",
      "  N Cells:      27\n",
      "  N Points:     40\n",
      "  X Bounds:     0.000e+00, 1.000e+00\n",
      "  Y Bounds:     0.000e+00, 2.000e+00\n",
      "  Z Bounds:     0.000e+00, 0.000e+00\n",
      "  Dimensions:   10, 4, 1\n",
      "  N Arrays:     4\n",
      "\n"
     ]
    },
    {
     "data": {
      "application/vnd.jupyter.widget-view+json": {
       "model_id": "f8563d79633a420b9917865447cd023e",
       "version_major": 2,
       "version_minor": 0
      },
      "text/plain": [
       "Widget(value=\"<iframe src='http://localhost:60475/index.html?ui=P_0x299c435d0_19&reconnect=auto' style='width:…"
      ]
     },
     "metadata": {},
     "output_type": "display_data"
    },
    {
     "name": "stdout",
     "output_type": "stream",
     "text": [
      "\n",
      "\n",
      "\n",
      "file name: hello.vtk\n",
      "meta properties extracted: \n",
      "PolyData (0x299c166e0)\n",
      "  N Cells:    15\n",
      "  N Points:   22\n",
      "  N Strips:   0\n",
      "  X Bounds:   0.000e+00, 9.000e+00\n",
      "  Y Bounds:   0.000e+00, 2.000e+00\n",
      "  Z Bounds:   0.000e+00, 0.000e+00\n",
      "  N Arrays:   0\n",
      "\n"
     ]
    },
    {
     "data": {
      "application/vnd.jupyter.widget-view+json": {
       "model_id": "0cc629e80c9a47808eccb3ffa8c5140e",
       "version_major": 2,
       "version_minor": 0
      },
      "text/plain": [
       "Widget(value=\"<iframe src='http://localhost:60475/index.html?ui=P_0x299c4abd0_20&reconnect=auto' style='width:…"
      ]
     },
     "metadata": {},
     "output_type": "display_data"
    },
    {
     "name": "stdout",
     "output_type": "stream",
     "text": [
      "\n",
      "\n",
      "\n",
      "file name: 02_structured.vtk\n",
      "meta properties extracted: \n",
      "StructuredGrid (0x299c24760)\n",
      "  N Cells:      72\n",
      "  N Points:     147\n",
      "  X Bounds:     -1.534e-02, 1.015e+00\n",
      "  Y Bounds:     -1.527e-02, 1.016e+00\n",
      "  Z Bounds:     -4.682e-02, 1.050e+00\n",
      "  Dimensions:   7, 7, 3\n",
      "  N Arrays:     4\n",
      "\n"
     ]
    },
    {
     "data": {
      "application/vnd.jupyter.widget-view+json": {
       "model_id": "a6953d9d0985406c85232378bf6b0862",
       "version_major": 2,
       "version_minor": 0
      },
      "text/plain": [
       "Widget(value=\"<iframe src='http://localhost:60475/index.html?ui=P_0x299c62110_21&reconnect=auto' style='width:…"
      ]
     },
     "metadata": {},
     "output_type": "display_data"
    },
    {
     "name": "stdout",
     "output_type": "stream",
     "text": [
      "\n",
      "\n",
      "\n",
      "file name: vox8_binary.vtk\n",
      "meta properties extracted: \n",
      "UnstructuredGrid (0x299c253c0)\n",
      "  N Cells:    8\n",
      "  N Points:   27\n",
      "  X Bounds:   0.000e+00, 2.000e+00\n",
      "  Y Bounds:   0.000e+00, 2.000e+00\n",
      "  Z Bounds:   0.000e+00, 2.000e+00\n",
      "  N Arrays:   12\n",
      "\n"
     ]
    },
    {
     "data": {
      "application/vnd.jupyter.widget-view+json": {
       "model_id": "355deef9b1d349ae81f48e52a3fe2149",
       "version_major": 2,
       "version_minor": 0
      },
      "text/plain": [
       "Widget(value=\"<iframe src='http://localhost:60475/index.html?ui=P_0x299cc4a50_22&reconnect=auto' style='width:…"
      ]
     },
     "metadata": {},
     "output_type": "display_data"
    },
    {
     "name": "stdout",
     "output_type": "stream",
     "text": [
      "\n",
      "\n",
      "\n",
      "file name: 06_color_scalars.vtk\n",
      "meta properties extracted: \n",
      "UnstructuredGrid (0x299c25a20)\n",
      "  N Cells:    2\n",
      "  N Points:   5\n",
      "  X Bounds:   -1.500e+00, 1.500e+00\n",
      "  Y Bounds:   -1.500e+00, 1.500e+00\n",
      "  Z Bounds:   0.000e+00, 0.000e+00\n",
      "  N Arrays:   1\n",
      "\n"
     ]
    },
    {
     "data": {
      "application/vnd.jupyter.widget-view+json": {
       "model_id": "a2b959f938454b06b2b1dd8160e241a5",
       "version_major": 2,
       "version_minor": 0
      },
      "text/plain": [
       "Widget(value=\"<iframe src='http://localhost:60475/index.html?ui=P_0x299c7c890_23&reconnect=auto' style='width:…"
      ]
     },
     "metadata": {},
     "output_type": "display_data"
    },
    {
     "name": "stdout",
     "output_type": "stream",
     "text": [
      "\n",
      "\n",
      "\n",
      "file name: bun_zipper_res4.ply\n",
      "meta properties extracted: \n",
      "PolyData (0x299cb5420)\n",
      "  N Cells:    948\n",
      "  N Points:   453\n",
      "  N Strips:   0\n",
      "  X Bounds:   -9.315e-02, 5.816e-02\n",
      "  Y Bounds:   3.362e-02, 1.819e-01\n",
      "  Z Bounds:   -5.664e-02, 5.780e-02\n",
      "  N Arrays:   0\n",
      "\n"
     ]
    },
    {
     "data": {
      "application/vnd.jupyter.widget-view+json": {
       "model_id": "ebc3a18a96294fd39699027d8e8d5bdc",
       "version_major": 2,
       "version_minor": 0
      },
      "text/plain": [
       "Widget(value=\"<iframe src='http://localhost:60475/index.html?ui=P_0x299cbab10_24&reconnect=auto' style='width:…"
      ]
     },
     "metadata": {},
     "output_type": "display_data"
    },
    {
     "name": "stdout",
     "output_type": "stream",
     "text": [
      "\n",
      "\n",
      "\n",
      "file name: bunny.stl\n",
      "meta properties extracted: \n",
      "PolyData (0x299cb6da0)\n",
      "  N Cells:    112402\n",
      "  N Points:   56203\n",
      "  N Strips:   0\n",
      "  X Bounds:   -2.355e+01, 8.420e+01\n",
      "  Y Bounds:   -4.201e+01, 4.579e+01\n",
      "  Z Bounds:   5.275e+00, 1.132e+02\n",
      "  N Arrays:   0\n",
      "\n"
     ]
    },
    {
     "data": {
      "application/vnd.jupyter.widget-view+json": {
       "model_id": "19c66cf239ad4a83a6b208263786b3c4",
       "version_major": 2,
       "version_minor": 0
      },
      "text/plain": [
       "Widget(value=\"<iframe src='http://localhost:60475/index.html?ui=P_0x299c986d0_25&reconnect=auto' style='width:…"
      ]
     },
     "metadata": {},
     "output_type": "display_data"
    },
    {
     "name": "stdout",
     "output_type": "stream",
     "text": [
      "\n",
      "\n",
      "\n",
      "file name: Box.glb\n",
      "meta properties extracted: \n",
      "MultiBlock (0x2abf1dc00)\n",
      "  N Blocks    1\n",
      "  X Bounds    -0.500, 0.500\n",
      "  Y Bounds    -0.500, 0.500\n",
      "  Z Bounds    -0.500, 0.500\n",
      "\n"
     ]
    },
    {
     "data": {
      "application/vnd.jupyter.widget-view+json": {
       "model_id": "1920b263a3d747dcae093c38592eac96",
       "version_major": 2,
       "version_minor": 0
      },
      "text/plain": [
       "Widget(value=\"<iframe src='http://localhost:60475/index.html?ui=P_0x299cce2d0_26&reconnect=auto' style='width:…"
      ]
     },
     "metadata": {},
     "output_type": "display_data"
    },
    {
     "name": "stdout",
     "output_type": "stream",
     "text": [
      "\n",
      "\n",
      "\n",
      "file name: uni_stuttgart.png\n",
      "meta properties extracted: \n",
      "ImageData (0x2abf1cd00)\n",
      "  N Cells:      57509\n",
      "  N Points:     58080\n",
      "  X Bounds:     0.000e+00, 4.390e+02\n",
      "  Y Bounds:     0.000e+00, 1.310e+02\n",
      "  Z Bounds:     0.000e+00, 0.000e+00\n",
      "  Dimensions:   440, 132, 1\n",
      "  Spacing:      1.000e+00, 1.000e+00, 1.000e+00\n",
      "  N Arrays:     1\n",
      "\n"
     ]
    },
    {
     "data": {
      "application/vnd.jupyter.widget-view+json": {
       "model_id": "f15064b70ea14958907380a9430450cb",
       "version_major": 2,
       "version_minor": 0
      },
      "text/plain": [
       "Widget(value=\"<iframe src='http://localhost:60475/index.html?ui=P_0x2abf688d0_27&reconnect=auto' style='width:…"
      ]
     },
     "metadata": {},
     "output_type": "display_data"
    },
    {
     "name": "stdout",
     "output_type": "stream",
     "text": [
      "\n",
      "\n",
      "\n",
      "file name: earth.jpg\n",
      "meta properties extracted: \n",
      "ImageData (0x2abf1f520)\n",
      "  N Cells:      2094081\n",
      "  N Points:     2097152\n",
      "  X Bounds:     0.000e+00, 2.047e+03\n",
      "  Y Bounds:     0.000e+00, 1.023e+03\n",
      "  Z Bounds:     0.000e+00, 0.000e+00\n",
      "  Dimensions:   2048, 1024, 1\n",
      "  Spacing:      1.000e+00, 1.000e+00, 1.000e+00\n",
      "  N Arrays:     1\n",
      "\n"
     ]
    },
    {
     "data": {
      "application/vnd.jupyter.widget-view+json": {
       "model_id": "9f363039879742c2a01a69b887e1c06a",
       "version_major": 2,
       "version_minor": 0
      },
      "text/plain": [
       "Widget(value=\"<iframe src='http://localhost:60475/index.html?ui=P_0x2abf15dd0_28&reconnect=auto' style='width:…"
      ]
     },
     "metadata": {},
     "output_type": "display_data"
    },
    {
     "name": "stdout",
     "output_type": "stream",
     "text": [
      "\n",
      "\n",
      "\n",
      "file name: T0000000500.pvtu\n",
      "meta properties extracted: \n",
      "UnstructuredGrid (0x2abf5ee00)\n",
      "  N Cells:    39353\n",
      "  N Points:   48823\n",
      "  X Bounds:   5.300e+01, 1.210e+02\n",
      "  Y Bounds:   5.000e+01, 9.700e+01\n",
      "  Z Bounds:   6.400e+01, 1.820e+02\n",
      "  N Arrays:   5\n",
      "\n"
     ]
    },
    {
     "data": {
      "application/vnd.jupyter.widget-view+json": {
       "model_id": "e3d17a44d68b460796f91f070ef2631b",
       "version_major": 2,
       "version_minor": 0
      },
      "text/plain": [
       "Widget(value=\"<iframe src='http://localhost:60475/index.html?ui=P_0x2abf21290_29&reconnect=auto' style='width:…"
      ]
     },
     "metadata": {},
     "output_type": "display_data"
    },
    {
     "name": "stdout",
     "output_type": "stream",
     "text": [
      "\n",
      "\n",
      "\n",
      "file name: heart.vti\n",
      "meta properties extracted: \n",
      "ImageData (0x2abf5cb20)\n",
      "  N Cells:      10571\n",
      "  N Points:     12288\n",
      "  X Bounds:     0.000e+00, 3.100e+01\n",
      "  Y Bounds:     0.000e+00, 3.100e+01\n",
      "  Z Bounds:     0.000e+00, 4.400e+01\n",
      "  Dimensions:   32, 32, 12\n",
      "  Spacing:      1.000e+00, 1.000e+00, 4.000e+00\n",
      "  N Arrays:     1\n",
      "\n"
     ]
    },
    {
     "data": {
      "application/vnd.jupyter.widget-view+json": {
       "model_id": "d383902e700e4d339f53561fe3e41007",
       "version_major": 2,
       "version_minor": 0
      },
      "text/plain": [
       "Widget(value=\"<iframe src='http://localhost:60475/index.html?ui=P_0x2abf84390_30&reconnect=auto' style='width:…"
      ]
     },
     "metadata": {},
     "output_type": "display_data"
    },
    {
     "name": "stdout",
     "output_type": "stream",
     "text": [
      "\n",
      "\n",
      "\n",
      "file name: elephav.obj\n",
      "meta properties extracted: \n",
      "PolyData (0x2abf5ff40)\n",
      "  N Cells:    1148\n",
      "  N Points:   3444\n",
      "  N Strips:   0\n",
      "  X Bounds:   -2.734e+02, 2.734e+02\n",
      "  Y Bounds:   2.812e+00, 7.146e+02\n",
      "  Z Bounds:   -4.177e+02, 7.173e+02\n",
      "  N Arrays:   2\n",
      "\n"
     ]
    },
    {
     "data": {
      "application/vnd.jupyter.widget-view+json": {
       "model_id": "47ec7930f13b431d8e64570b9e11175b",
       "version_major": 2,
       "version_minor": 0
      },
      "text/plain": [
       "Widget(value=\"<iframe src='http://localhost:60475/index.html?ui=P_0x2abf14b90_31&reconnect=auto' style='width:…"
      ]
     },
     "metadata": {},
     "output_type": "display_data"
    },
    {
     "name": "stdout",
     "output_type": "stream",
     "text": [
      "\n",
      "\n",
      "\n",
      "\n",
      "\n",
      "***Please note that currently there are no parsers to parse  and wrl files found under the given path.\n",
      "\n",
      "List of unparsed files: ['/Users/wangfg/Documents/myDataProject/myWork/zusammenWork/darus_data_harvester_V2/example/Box.wrl']\n",
      "\n",
      "\n",
      "---*** Matadata harvester output ***---\n",
      "\n",
      "name: all parsed file groups\n",
      "file_group_names:\n",
      "  vtk files:\n",
      "    - vtu\n",
      "    - vtk\n",
      "    - ply\n",
      "    - stl\n",
      "    - glb\n",
      "    - png\n",
      "    - jpg\n",
      "    - pvtu\n",
      "    - vti\n",
      "    - obj\n",
      "  txt files:\n",
      "    - txt\n",
      "  xml files:\n",
      "    - xml\n",
      "groups:\n",
      "  - name: vtk files\n",
      "    files:\n",
      "      - name: test_mesh.vtu\n",
      "        path: /Users/wangfg/Documents/myDataProject/myWork/zusammenWork/darus_data_harvester_V2/example/test_mesh.vtu\n",
      "        metadata:\n",
      "          dataset type:\n",
      "            - UnstructuredGrid\n",
      "          number of points:\n",
      "            - 7\n",
      "          number of cells:\n",
      "            - 5\n",
      "          number of arrays:\n",
      "            - 4\n",
      "          mesh bounds:\n",
      "            - - 0.0\n",
      "              - 2.0\n",
      "              - 0.0\n",
      "              - 1.0\n",
      "              - 0.0\n",
      "              - 0.0\n",
      "          mesh center:\n",
      "            - - 1.0\n",
      "              - 0.5\n",
      "              - 0.0\n",
      "      - name: 00_raw_binary.vtu\n",
      "        path: /Users/wangfg/Documents/myDataProject/myWork/zusammenWork/darus_data_harvester_V2/example/00_raw_binary.vtu\n",
      "        metadata:\n",
      "          dataset type:\n",
      "            - UnstructuredGrid\n",
      "          number of points:\n",
      "            - 64\n",
      "          number of cells:\n",
      "            - 162\n",
      "          number of arrays:\n",
      "            - 1\n",
      "          mesh bounds:\n",
      "            - - 0.0\n",
      "              - 1.0\n",
      "              - 0.0\n",
      "              - 1.0\n",
      "              - 0.0\n",
      "              - 1.0\n",
      "          mesh center:\n",
      "            - - 0.5\n",
      "              - 0.5\n",
      "              - 0.5\n",
      "      - name: vox8_binary_inline.vtu\n",
      "        path: /Users/wangfg/Documents/myDataProject/myWork/zusammenWork/darus_data_harvester_V2/example/vox8_binary_inline.vtu\n",
      "        metadata:\n",
      "          dataset type:\n",
      "            - UnstructuredGrid\n",
      "          number of points:\n",
      "            - 27\n",
      "          number of cells:\n",
      "            - 8\n",
      "          number of arrays:\n",
      "            - 12\n",
      "          mesh bounds:\n",
      "            - - 0.0\n",
      "              - 2.0\n",
      "              - 0.0\n",
      "              - 2.0\n",
      "              - 0.0\n",
      "              - 2.0\n",
      "          mesh center:\n",
      "            - - 1.0\n",
      "              - 1.0\n",
      "              - 1.0\n",
      "      - name: 01_raw_binary_int64.vtu\n",
      "        path: /Users/wangfg/Documents/myDataProject/myWork/zusammenWork/darus_data_harvester_V2/example/01_raw_binary_int64.vtu\n",
      "        metadata:\n",
      "          dataset type:\n",
      "            - UnstructuredGrid\n",
      "          number of points:\n",
      "            - 64\n",
      "          number of cells:\n",
      "            - 162\n",
      "          number of arrays:\n",
      "            - 1\n",
      "          mesh bounds:\n",
      "            - - 0.0\n",
      "              - 1.0\n",
      "              - 0.0\n",
      "              - 1.0\n",
      "              - 0.0\n",
      "              - 1.0\n",
      "          mesh center:\n",
      "            - - 0.5\n",
      "              - 0.5\n",
      "              - 0.5\n",
      "      - name: ugridex.vtu\n",
      "        path: /Users/wangfg/Documents/myDataProject/myWork/zusammenWork/darus_data_harvester_V2/example/ugridex.vtu\n",
      "        metadata:\n",
      "          dataset type:\n",
      "            - UnstructuredGrid\n",
      "          number of points:\n",
      "            - 27\n",
      "          number of cells:\n",
      "            - 12\n",
      "          number of arrays:\n",
      "            - 2\n",
      "          mesh bounds:\n",
      "            - - 0.0\n",
      "              - 2.0\n",
      "              - 0.0\n",
      "              - 1.0\n",
      "              - 0.0\n",
      "              - 6.0\n",
      "          mesh center:\n",
      "            - - 1.0\n",
      "              - 0.5\n",
      "              - 3.0\n",
      "      - name: vox8_binary_inline_zlib.vtu\n",
      "        path: /Users/wangfg/Documents/myDataProject/myWork/zusammenWork/darus_data_harvester_V2/example/vox8_binary_inline_zlib.vtu\n",
      "        metadata:\n",
      "          dataset type:\n",
      "            - UnstructuredGrid\n",
      "          number of points:\n",
      "            - 27\n",
      "          number of cells:\n",
      "            - 8\n",
      "          number of arrays:\n",
      "            - 12\n",
      "          mesh bounds:\n",
      "            - - 0.0\n",
      "              - 2.0\n",
      "              - 0.0\n",
      "              - 2.0\n",
      "              - 0.0\n",
      "              - 2.0\n",
      "          mesh center:\n",
      "            - - 1.0\n",
      "              - 1.0\n",
      "              - 1.0\n",
      "      - name: vox8_binary_appended.vtu\n",
      "        path: /Users/wangfg/Documents/myDataProject/myWork/zusammenWork/darus_data_harvester_V2/example/vox8_binary_appended.vtu\n",
      "        metadata:\n",
      "          dataset type:\n",
      "            - UnstructuredGrid\n",
      "          number of points:\n",
      "            - 27\n",
      "          number of cells:\n",
      "            - 8\n",
      "          number of arrays:\n",
      "            - 12\n",
      "          mesh bounds:\n",
      "            - - 0.0\n",
      "              - 2.0\n",
      "              - 0.0\n",
      "              - 2.0\n",
      "              - 0.0\n",
      "              - 2.0\n",
      "          mesh center:\n",
      "            - - 1.0\n",
      "              - 1.0\n",
      "              - 1.0\n",
      "      - name: vox8_ascii.vtu\n",
      "        path: /Users/wangfg/Documents/myDataProject/myWork/zusammenWork/darus_data_harvester_V2/example/vox8_ascii.vtu\n",
      "        metadata:\n",
      "          dataset type:\n",
      "            - UnstructuredGrid\n",
      "          number of points:\n",
      "            - 27\n",
      "          number of cells:\n",
      "            - 8\n",
      "          number of arrays:\n",
      "            - 12\n",
      "          mesh bounds:\n",
      "            - - 0.0\n",
      "              - 2.0\n",
      "              - 0.0\n",
      "              - 2.0\n",
      "              - 0.0\n",
      "              - 2.0\n",
      "          mesh center:\n",
      "            - - 1.0\n",
      "              - 1.0\n",
      "              - 1.0\n",
      "      - name: 02_raw_compressed.vtu\n",
      "        path: /Users/wangfg/Documents/myDataProject/myWork/zusammenWork/darus_data_harvester_V2/example/02_raw_compressed.vtu\n",
      "        metadata:\n",
      "          dataset type:\n",
      "            - UnstructuredGrid\n",
      "          number of points:\n",
      "            - 64\n",
      "          number of cells:\n",
      "            - 162\n",
      "          number of arrays:\n",
      "            - 1\n",
      "          mesh bounds:\n",
      "            - - 0.0\n",
      "              - 1.0\n",
      "              - 0.0\n",
      "              - 1.0\n",
      "              - 0.0\n",
      "              - 1.0\n",
      "          mesh center:\n",
      "            - - 0.5\n",
      "              - 0.5\n",
      "              - 0.5\n",
      "      - name: fire_ug.vtu\n",
      "        path: /Users/wangfg/Documents/myDataProject/myWork/zusammenWork/darus_data_harvester_V2/example/fire_ug.vtu\n",
      "        metadata:\n",
      "          dataset type:\n",
      "            - UnstructuredGrid\n",
      "          number of points:\n",
      "            - 12323\n",
      "          number of cells:\n",
      "            - 10462\n",
      "          number of arrays:\n",
      "            - 6\n",
      "          mesh bounds:\n",
      "            - - 0.0\n",
      "              - 6.0\n",
      "              - 0.0\n",
      "              - 2.5\n",
      "              - 0.0\n",
      "              - 2.3999998569488525\n",
      "          mesh center:\n",
      "            - - 3.0\n",
      "              - 1.25\n",
      "              - 1.1999999284744263\n",
      "      - name: triangle_mesh_linear.vtu\n",
      "        path: /Users/wangfg/Documents/myDataProject/myWork/zusammenWork/darus_data_harvester_V2/example/triangle_mesh_linear.vtu\n",
      "        metadata:\n",
      "          dataset type:\n",
      "            - UnstructuredGrid\n",
      "          number of points:\n",
      "            - 8\n",
      "          number of cells:\n",
      "            - 6\n",
      "          number of arrays:\n",
      "            - 3\n",
      "          mesh bounds:\n",
      "            - - 0.0\n",
      "              - 2.0\n",
      "              - 0.0\n",
      "              - 2.0\n",
      "              - 0.0\n",
      "              - 0.0\n",
      "          mesh center:\n",
      "            - - 1.0\n",
      "              - 1.0\n",
      "              - 0.0\n",
      "      - name: 003.vtu\n",
      "        path: /Users/wangfg/Documents/myDataProject/myWork/zusammenWork/darus_data_harvester_V2/example/T0000000500/003.vtu\n",
      "        metadata:\n",
      "          dataset type:\n",
      "            - UnstructuredGrid\n",
      "          number of points:\n",
      "            - 9184\n",
      "          number of cells:\n",
      "            - 7125\n",
      "          number of arrays:\n",
      "            - 5\n",
      "          mesh bounds:\n",
      "            - - 53.0\n",
      "              - 121.0\n",
      "              - 69.0\n",
      "              - 92.0\n",
      "              - 64.0\n",
      "              - 95.0\n",
      "          mesh center:\n",
      "            - - 87.0\n",
      "              - 80.5\n",
      "              - 79.5\n",
      "      - name: 002.vtu\n",
      "        path: /Users/wangfg/Documents/myDataProject/myWork/zusammenWork/darus_data_harvester_V2/example/T0000000500/002.vtu\n",
      "        metadata:\n",
      "          dataset type:\n",
      "            - UnstructuredGrid\n",
      "          number of points:\n",
      "            - 14251\n",
      "          number of cells:\n",
      "            - 11757\n",
      "          number of arrays:\n",
      "            - 5\n",
      "          mesh bounds:\n",
      "            - - 67.0\n",
      "              - 101.0\n",
      "              - 77.0\n",
      "              - 97.0\n",
      "              - 74.0\n",
      "              - 130.0\n",
      "          mesh center:\n",
      "            - - 84.0\n",
      "              - 87.0\n",
      "              - 102.0\n",
      "      - name: 000.vtu\n",
      "        path: /Users/wangfg/Documents/myDataProject/myWork/zusammenWork/darus_data_harvester_V2/example/T0000000500/000.vtu\n",
      "        metadata:\n",
      "          dataset type:\n",
      "            - UnstructuredGrid\n",
      "          number of points:\n",
      "            - 11047\n",
      "          number of cells:\n",
      "            - 8892\n",
      "          number of arrays:\n",
      "            - 5\n",
      "          mesh bounds:\n",
      "            - - 72.0\n",
      "              - 103.0\n",
      "              - 50.0\n",
      "              - 86.0\n",
      "              - 139.0\n",
      "              - 182.0\n",
      "          mesh center:\n",
      "            - - 87.5\n",
      "              - 68.0\n",
      "              - 160.5\n",
      "      - name: 001.vtu\n",
      "        path: /Users/wangfg/Documents/myDataProject/myWork/zusammenWork/darus_data_harvester_V2/example/T0000000500/001.vtu\n",
      "        metadata:\n",
      "          dataset type:\n",
      "            - UnstructuredGrid\n",
      "          number of points:\n",
      "            - 14341\n",
      "          number of cells:\n",
      "            - 11579\n",
      "          number of arrays:\n",
      "            - 5\n",
      "          mesh bounds:\n",
      "            - - 84.0\n",
      "              - 116.0\n",
      "              - 63.0\n",
      "              - 90.0\n",
      "              - 90.0\n",
      "              - 148.0\n",
      "          mesh center:\n",
      "            - - 100.0\n",
      "              - 76.5\n",
      "              - 119.0\n",
      "      - name: gh-935.vtk\n",
      "        path: /Users/wangfg/Documents/myDataProject/myWork/zusammenWork/darus_data_harvester_V2/example/gh-935.vtk\n",
      "        metadata:\n",
      "          dataset type:\n",
      "            - UnstructuredGrid\n",
      "          number of points:\n",
      "            - 6\n",
      "          number of cells:\n",
      "            - 2\n",
      "          number of arrays:\n",
      "            - 1\n",
      "          mesh bounds:\n",
      "            - - 0.0\n",
      "              - 1.0\n",
      "              - 0.0\n",
      "              - 1.0\n",
      "              - 0.0\n",
      "              - 0.0\n",
      "          mesh center:\n",
      "            - - 0.5\n",
      "              - 0.5\n",
      "              - 0.0\n",
      "      - name: 06_unstructured.vtk\n",
      "        path: /Users/wangfg/Documents/myDataProject/myWork/zusammenWork/darus_data_harvester_V2/example/06_unstructured.vtk\n",
      "        metadata:\n",
      "          dataset type:\n",
      "            - UnstructuredGrid\n",
      "          number of points:\n",
      "            - 42\n",
      "          number of cells:\n",
      "            - 12\n",
      "          number of arrays:\n",
      "            - 2\n",
      "          mesh bounds:\n",
      "            - - 1.2999999523162842\n",
      "              - 1.5\n",
      "              - 0.800000011920929\n",
      "              - 1.0\n",
      "              - 0.0\n",
      "              - 0.5\n",
      "          mesh center:\n",
      "            - - 1.399999976158142\n",
      "              - 0.9000000059604645\n",
      "              - 0.25\n",
      "      - name: 01_image.vtk\n",
      "        path: /Users/wangfg/Documents/myDataProject/myWork/zusammenWork/darus_data_harvester_V2/example/01_image.vtk\n",
      "        metadata:\n",
      "          dataset type:\n",
      "            - ImageData\n",
      "          number of points:\n",
      "            - 147\n",
      "          number of cells:\n",
      "            - 72\n",
      "          number of arrays:\n",
      "            - 4\n",
      "          dimensions:\n",
      "            - - 7\n",
      "              - 7\n",
      "              - 3\n",
      "          spacing:\n",
      "            - - 1.0\n",
      "              - 1.0\n",
      "              - 1.0\n",
      "          mesh bounds:\n",
      "            - - 0.0\n",
      "              - 6.0\n",
      "              - 0.0\n",
      "              - 6.0\n",
      "              - 0.0\n",
      "              - 2.0\n",
      "          mesh center:\n",
      "            - - 3.0\n",
      "              - 3.0\n",
      "              - 1.0\n",
      "      - name: vox8_ascii.vtk\n",
      "        path: /Users/wangfg/Documents/myDataProject/myWork/zusammenWork/darus_data_harvester_V2/example/vox8_ascii.vtk\n",
      "        metadata:\n",
      "          dataset type:\n",
      "            - UnstructuredGrid\n",
      "          number of points:\n",
      "            - 27\n",
      "          number of cells:\n",
      "            - 8\n",
      "          number of arrays:\n",
      "            - 12\n",
      "          mesh bounds:\n",
      "            - - 0.0\n",
      "              - 2.0\n",
      "              - 0.0\n",
      "              - 2.0\n",
      "              - 0.0\n",
      "              - 2.0\n",
      "          mesh center:\n",
      "            - - 1.0\n",
      "              - 1.0\n",
      "              - 1.0\n",
      "      - name: 04_rectilinear.vtk\n",
      "        path: /Users/wangfg/Documents/myDataProject/myWork/zusammenWork/darus_data_harvester_V2/example/04_rectilinear.vtk\n",
      "        metadata:\n",
      "          dataset type:\n",
      "            - RectilinearGrid\n",
      "          number of points:\n",
      "            - 40\n",
      "          number of cells:\n",
      "            - 27\n",
      "          number of arrays:\n",
      "            - 4\n",
      "          dimensions:\n",
      "            - - 10\n",
      "              - 4\n",
      "              - 1\n",
      "          mesh bounds:\n",
      "            - - 0.0\n",
      "              - 1.0\n",
      "              - 0.0\n",
      "              - 2.0\n",
      "              - 0.0\n",
      "              - 0.0\n",
      "          mesh center:\n",
      "            - - 0.5\n",
      "              - 1.0\n",
      "              - 0.0\n",
      "      - name: hello.vtk\n",
      "        path: /Users/wangfg/Documents/myDataProject/myWork/zusammenWork/darus_data_harvester_V2/example/hello.vtk\n",
      "        metadata:\n",
      "          dataset type:\n",
      "            - PolyData\n",
      "          number of points:\n",
      "            - 22\n",
      "          number of cells:\n",
      "            - 15\n",
      "          number of lines:\n",
      "            - 15\n",
      "          mesh bounds:\n",
      "            - - 0.0\n",
      "              - 9.0\n",
      "              - 0.0\n",
      "              - 2.0\n",
      "              - 0.0\n",
      "              - 0.0\n",
      "          mesh center:\n",
      "            - - 4.5\n",
      "              - 1.0\n",
      "              - 0.0\n",
      "      - name: 02_structured.vtk\n",
      "        path: /Users/wangfg/Documents/myDataProject/myWork/zusammenWork/darus_data_harvester_V2/example/02_structured.vtk\n",
      "        metadata:\n",
      "          dataset type:\n",
      "            - StructuredGrid\n",
      "          number of points:\n",
      "            - 147\n",
      "          number of cells:\n",
      "            - 72\n",
      "          number of arrays:\n",
      "            - 4\n",
      "          dimensions:\n",
      "            - - 7\n",
      "              - 7\n",
      "              - 3\n",
      "          mesh bounds:\n",
      "            - - -0.015338152602\n",
      "              - 1.0147581381\n",
      "              - -0.015274787969\n",
      "              - 1.0157021684\n",
      "              - -0.046818381932\n",
      "              - 1.0495865001\n",
      "          mesh center:\n",
      "            - - 0.49970999274899996\n",
      "              - 0.5002136902155\n",
      "              - 0.501384059084\n",
      "      - name: vox8_binary.vtk\n",
      "        path: /Users/wangfg/Documents/myDataProject/myWork/zusammenWork/darus_data_harvester_V2/example/vox8_binary.vtk\n",
      "        metadata:\n",
      "          dataset type:\n",
      "            - UnstructuredGrid\n",
      "          number of points:\n",
      "            - 27\n",
      "          number of cells:\n",
      "            - 8\n",
      "          number of arrays:\n",
      "            - 12\n",
      "          mesh bounds:\n",
      "            - - 0.0\n",
      "              - 2.0\n",
      "              - 0.0\n",
      "              - 2.0\n",
      "              - 0.0\n",
      "              - 2.0\n",
      "          mesh center:\n",
      "            - - 1.0\n",
      "              - 1.0\n",
      "              - 1.0\n",
      "      - name: 06_color_scalars.vtk\n",
      "        path: /Users/wangfg/Documents/myDataProject/myWork/zusammenWork/darus_data_harvester_V2/example/06_color_scalars.vtk\n",
      "        metadata:\n",
      "          dataset type:\n",
      "            - UnstructuredGrid\n",
      "          number of points:\n",
      "            - 5\n",
      "          number of cells:\n",
      "            - 2\n",
      "          number of arrays:\n",
      "            - 1\n",
      "          mesh bounds:\n",
      "            - - -1.5\n",
      "              - 1.5\n",
      "              - -1.5\n",
      "              - 1.5\n",
      "              - 0.0\n",
      "              - 0.0\n",
      "          mesh center:\n",
      "            - - 0.0\n",
      "              - 0.0\n",
      "              - 0.0\n",
      "      - name: bun_zipper_res4.ply\n",
      "        path: /Users/wangfg/Documents/myDataProject/myWork/zusammenWork/darus_data_harvester_V2/example/bun_zipper_res4.ply\n",
      "        metadata:\n",
      "          dataset type:\n",
      "            - PolyData\n",
      "          number of points:\n",
      "            - 453\n",
      "          number of cells:\n",
      "            - 948\n",
      "          mesh bounds:\n",
      "            - - -0.09314659982919693\n",
      "              - 0.058159101754426956\n",
      "              - 0.03362039849162102\n",
      "              - 0.18189699947834015\n",
      "              - -0.056644000113010406\n",
      "              - 0.05780079960823059\n",
      "          mesh center:\n",
      "            - - -0.017493749037384987\n",
      "              - 0.10775869898498058\n",
      "              - 0.0005783997476100922\n",
      "      - name: bunny.stl\n",
      "        path: /Users/wangfg/Documents/myDataProject/myWork/zusammenWork/darus_data_harvester_V2/example/bunny.stl\n",
      "        metadata:\n",
      "          dataset type:\n",
      "            - PolyData\n",
      "          number of points:\n",
      "            - 56203\n",
      "          number of cells:\n",
      "            - 112402\n",
      "          mesh bounds:\n",
      "            - - -23.550819396972656\n",
      "              - 84.19611358642578\n",
      "              - -42.00993728637695\n",
      "              - 45.791847229003906\n",
      "              - 5.27508544921875\n",
      "              - 113.16683959960938\n",
      "          mesh center:\n",
      "            - - 30.322647094726562\n",
      "              - 1.8909549713134766\n",
      "              - 59.22096252441406\n",
      "      - name: Box.glb\n",
      "        path: /Users/wangfg/Documents/myDataProject/myWork/zusammenWork/darus_data_harvester_V2/example/Box.glb\n",
      "        metadata:\n",
      "          dataset type:\n",
      "            - MultiBlock\n",
      "          number of blocks:\n",
      "            - 1\n",
      "          mesh bounds:\n",
      "            - - !!python/object/apply:numpy.core.multiarray.scalar\n",
      "                - &id001 !!python/object/apply:numpy.dtype\n",
      "                  args:\n",
      "                    - f8\n",
      "                    - false\n",
      "                    - true\n",
      "                  state: !!python/tuple\n",
      "                    - 3\n",
      "                    - <\n",
      "                    - null\n",
      "                    - null\n",
      "                    - null\n",
      "                    - -1\n",
      "                    - -1\n",
      "                    - 0\n",
      "                - !!binary |\n",
      "                  AAAAAAAA4L8=\n",
      "              - !!python/object/apply:numpy.core.multiarray.scalar\n",
      "                - *id001\n",
      "                - !!binary |\n",
      "                  AAAAAAAA4D8=\n",
      "              - !!python/object/apply:numpy.core.multiarray.scalar\n",
      "                - *id001\n",
      "                - !!binary |\n",
      "                  AAAAAAAA4L8=\n",
      "              - !!python/object/apply:numpy.core.multiarray.scalar\n",
      "                - *id001\n",
      "                - !!binary |\n",
      "                  AAAAAAAA4D8=\n",
      "              - !!python/object/apply:numpy.core.multiarray.scalar\n",
      "                - *id001\n",
      "                - !!binary |\n",
      "                  AAAAAAAA4L8=\n",
      "              - !!python/object/apply:numpy.core.multiarray.scalar\n",
      "                - *id001\n",
      "                - !!binary |\n",
      "                  AAAAAAAA4D8=\n",
      "          mesh center:\n",
      "            - - !!python/object/apply:numpy.core.multiarray.scalar\n",
      "                - *id001\n",
      "                - !!binary |\n",
      "                  AAAAAAAAAAA=\n",
      "              - !!python/object/apply:numpy.core.multiarray.scalar\n",
      "                - *id001\n",
      "                - !!binary |\n",
      "                  AAAAAAAAAAA=\n",
      "              - !!python/object/apply:numpy.core.multiarray.scalar\n",
      "                - *id001\n",
      "                - !!binary |\n",
      "                  AAAAAAAAAAA=\n",
      "      - name: uni_stuttgart.png\n",
      "        path: /Users/wangfg/Documents/myDataProject/myWork/zusammenWork/darus_data_harvester_V2/example/uni_stuttgart.png\n",
      "        metadata:\n",
      "          dataset type:\n",
      "            - ImageData\n",
      "          number of points:\n",
      "            - 58080\n",
      "          number of cells:\n",
      "            - 57509\n",
      "          number of arrays:\n",
      "            - 1\n",
      "          dimensions:\n",
      "            - - 440\n",
      "              - 132\n",
      "              - 1\n",
      "          spacing:\n",
      "            - - 1.0\n",
      "              - 1.0\n",
      "              - 1.0\n",
      "          mesh bounds:\n",
      "            - - 0.0\n",
      "              - 439.0\n",
      "              - 0.0\n",
      "              - 131.0\n",
      "              - 0.0\n",
      "              - 0.0\n",
      "          mesh center:\n",
      "            - - 219.5\n",
      "              - 65.5\n",
      "              - 0.0\n",
      "      - name: earth.jpg\n",
      "        path: /Users/wangfg/Documents/myDataProject/myWork/zusammenWork/darus_data_harvester_V2/example/earth.jpg\n",
      "        metadata:\n",
      "          dataset type:\n",
      "            - ImageData\n",
      "          number of points:\n",
      "            - 2097152\n",
      "          number of cells:\n",
      "            - 2094081\n",
      "          number of arrays:\n",
      "            - 1\n",
      "          dimensions:\n",
      "            - - 2048\n",
      "              - 1024\n",
      "              - 1\n",
      "          spacing:\n",
      "            - - 1.0\n",
      "              - 1.0\n",
      "              - 1.0\n",
      "          mesh bounds:\n",
      "            - - 0.0\n",
      "              - 2047.0\n",
      "              - 0.0\n",
      "              - 1023.0\n",
      "              - 0.0\n",
      "              - 0.0\n",
      "          mesh center:\n",
      "            - - 1023.5\n",
      "              - 511.5\n",
      "              - 0.0\n",
      "      - name: T0000000500.pvtu\n",
      "        path: /Users/wangfg/Documents/myDataProject/myWork/zusammenWork/darus_data_harvester_V2/example/T0000000500.pvtu\n",
      "        metadata:\n",
      "          dataset type:\n",
      "            - UnstructuredGrid\n",
      "          number of points:\n",
      "            - 48823\n",
      "          number of cells:\n",
      "            - 39353\n",
      "          number of arrays:\n",
      "            - 5\n",
      "          mesh bounds:\n",
      "            - - 53.0\n",
      "              - 121.0\n",
      "              - 50.0\n",
      "              - 97.0\n",
      "              - 64.0\n",
      "              - 182.0\n",
      "          mesh center:\n",
      "            - - 87.0\n",
      "              - 73.5\n",
      "              - 123.0\n",
      "      - name: heart.vti\n",
      "        path: /Users/wangfg/Documents/myDataProject/myWork/zusammenWork/darus_data_harvester_V2/example/heart.vti\n",
      "        metadata:\n",
      "          dataset type:\n",
      "            - ImageData\n",
      "          number of points:\n",
      "            - 12288\n",
      "          number of cells:\n",
      "            - 10571\n",
      "          number of arrays:\n",
      "            - 1\n",
      "          dimensions:\n",
      "            - - 32\n",
      "              - 32\n",
      "              - 12\n",
      "          spacing:\n",
      "            - - 1.0\n",
      "              - 1.0\n",
      "              - 4.0\n",
      "          mesh bounds:\n",
      "            - - 0.0\n",
      "              - 31.0\n",
      "              - 0.0\n",
      "              - 31.0\n",
      "              - 0.0\n",
      "              - 44.0\n",
      "          mesh center:\n",
      "            - - 15.5\n",
      "              - 15.5\n",
      "              - 22.0\n",
      "      - name: elephav.obj\n",
      "        path: /Users/wangfg/Documents/myDataProject/myWork/zusammenWork/darus_data_harvester_V2/example/elephav.obj\n",
      "        metadata:\n",
      "          dataset type:\n",
      "            - PolyData\n",
      "          number of points:\n",
      "            - 3444\n",
      "          number of cells:\n",
      "            - 1148\n",
      "          number of arrays:\n",
      "            - 2\n",
      "          mesh bounds:\n",
      "            - - -273.38336181640625\n",
      "              - 273.38336181640625\n",
      "              - 2.812407970428467\n",
      "              - 714.5693359375\n",
      "              - -417.7276916503906\n",
      "              - 717.3455810546875\n",
      "          mesh center:\n",
      "            - - 0.0\n",
      "              - 358.69087195396423\n",
      "              - 149.80894470214844\n",
      "  - name: txt files\n",
      "    files:\n",
      "      - name: citation.txt\n",
      "        path: /Users/wangfg/Documents/myDataProject/myWork/zusammenWork/darus_data_harvester_V2/example/citation.txt\n",
      "        metadata:\n",
      "          author:\n",
      "            - Sarbani Roy\n",
      "  - name: xml files\n",
      "    files:\n",
      "      - name: book.xml\n",
      "        path: /Users/wangfg/Documents/myDataProject/myWork/zusammenWork/darus_data_harvester_V2/example/book.xml\n",
      "        metadata:\n",
      "          title:\n",
      "            - Harry Potter and the Philosopher's Stone\n",
      "          year:\n",
      "            - '1997'\n",
      "          author:\n",
      "            - J.K. Rowling\n",
      "            - John Doe\n",
      "      - name: author_name.xml\n",
      "        path: /Users/wangfg/Documents/myDataProject/myWork/zusammenWork/darus_data_harvester_V2/example/author_name.xml\n",
      "        metadata:\n",
      "          title:\n",
      "            - The Adventures of Sherlock Holmes\n",
      "          year:\n",
      "            - '1892'\n",
      "          author:\n",
      "            - Arthur Conan Doyle\n",
      "__source__:\n",
      "  root: SuperGroup\n",
      "\n"
     ]
    },
    {
     "name": "stderr",
     "output_type": "stream",
     "text": [
      "/Users/wangfg/.local/share/virtualenvs/myDataProject-opUZDii-/lib/python3.11/site-packages/sdRDM/base/datamodel.py:249: UserWarning: No 'URL' and 'Commit' specified. This model might not be re-usable.\n",
      "  warnings.warn(\n"
     ]
    }
   ],
   "source": [
    "import os\n",
    "import pyvista as pv\n",
    "pv.set_jupyter_backend('trame')\n",
    "\n",
    "%run -i \"harvester.py\"\n"
   ]
  }
 ],
 "metadata": {
  "kernelspec": {
   "display_name": "myDataProject",
   "language": "python",
   "name": "mydataproject"
  },
  "language_info": {
   "codemirror_mode": {
    "name": "ipython",
    "version": 3
   },
   "file_extension": ".py",
   "mimetype": "text/x-python",
   "name": "python",
   "nbconvert_exporter": "python",
   "pygments_lexer": "ipython3",
   "version": "3.11.2"
  }
 },
 "nbformat": 4,
 "nbformat_minor": 5
}
